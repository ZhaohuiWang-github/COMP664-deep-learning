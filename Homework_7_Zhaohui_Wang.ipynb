{
  "cells": [
    {
      "cell_type": "markdown",
      "metadata": {
        "id": "t2hPDx3Tvh0v"
      },
      "source": [
        "# Homework 7\n",
        "\n",
        "In this homework you will be training and using a \"char-RNN\". This is the name given to a character-level recurrent neural network language model by [this famous blog post by Andrej Karpathy](http://karpathy.github.io/2015/05/21/rnn-effectiveness/). Before you start on the rest of the homework, please give the blog post a read, it's quite good!\n",
        "\n",
        "I don't expect you to implement the char-RNN from scratch. Andrej's original char-rnn is in Torch (the predecessor to PyTorch that is not commonly used anymore). Fortunately, there are many other implementations of this model available; for example, there is one (in both mxnet and pytorch) in chapters 8 and 9 of [the textbook](http://d2l.ai), and another pytorch one [here](https://github.com/spro/char-rnn.pytorch). **Please use one of these example implementations (or another one that you find) when completing this homework**.\n",
        "\n",
        "For this homework, please complete the following steps:\n",
        "\n",
        "1. Download and tokenize the [Shakespeare dataset](http://www.gutenberg.org/files/100/100-0.txt) at a character level. I recommend basing your solution on the following code:\n",
        "```Python\n",
        "# Remove non-alphabetical characters, lowercase, and replace whitespace with ' '\n",
        "raw_dataset = ' '.join(re.sub('[^A-Za-z ]+', '', text).lower().split())\n",
        "# Maps token index to character\n",
        "idx_to_char = list(set(raw_dataset))\n",
        "# Maps character to token index\n",
        "char_to_idx = dict([(char, i) for i, char in enumerate(idx_to_char)])\n",
        "# Tokenize the dataset\n",
        "corpus_indices = [char_to_idx[char] for char in raw_dataset]\n",
        "```\n",
        "1. Train a \"vanilla\" RNN (as described in chapter 8 of [the textbook](http://d2l.ai)) on the Shakespeare dataset. Report the training loss and generate some samples from the model at the end of training.\n",
        "1. Train a GRU RNN (as described in chapter 9 of [the textbook](http://d2l.ai)) on the Shakespeare datatset. Is the final training loss higher or lower than the vanilla RNN? Are the samples from the model more or less realistic?\n",
        "1. Find a smaller, simpler dataset than the Shakespeare data (you can find some ideas in Andrej's blog post, but feel free to get creative!) and train either the vanilla or GRU RNN on it instead. Is the final training loss higher or lower than it was for the Shakespeare data?"
      ]
    },
    {
      "cell_type": "markdown",
      "metadata": {
        "id": "iQDaBydsKWlg"
      },
      "source": [
        "**Conclusion:**\n",
        "\n",
        "The results of the Vanilla RNN model on the Shakespeare dataset are as follows:\n",
        "\n",
        "![vrnn](https://github.com/ZhaohuiWang-github/COMP664-deep-learning/raw/main/hw7_data/Vanilla%20RNN%20Training%20Loss.png)\n",
        "\n",
        "- The time spent on training was **3min 37s**.\n",
        "\n",
        "- We can see that the fluctuation of the loss is very dramatic during the training process, and after 2000 epochs, the loss is reduced to about **1.9**.\n",
        "\n",
        "Then, I set the start character to `wh` and the length of the generated samples to 200, and got 3 samples as follows:\n",
        "\n",
        "```\n",
        "Sample 1:  whoun's bolns swee. be do me, reng\n",
        "in thee to then new, he all it, and in and am are must the samess a sife why, thou are the,\n",
        "thy mill lock. whis.\n",
        "         thee.\n",
        "\n",
        "                                 \n",
        "\n",
        "Sample 2:  whe kne, still gurains, and every we she of youpal look in you, o, the came of that he roperhers lew we stake my lo come i be harthen ever the cith and be ne a buicing heverss but surn-whicine. thy clam\n",
        "\n",
        "Sample 3:  when it; good me bed\n",
        "                      136_eas me stur somes, my shale will counter a do way i he a she my swee. and nnor thee you best hemser befor cork\n",
        "i ato and herad coment the wom no, a speep\n",
        "\n",
        "```\n",
        "\n",
        "- We can find that the generated samples are not very good. There are a large number of words that are wrong, especially words that are slightly longer in length. The syntax of these sentences is also very bad, and the semantics are so poor that it is almost impossible to see what they are trying to express.\n",
        "\n"
      ]
    },
    {
      "cell_type": "markdown",
      "metadata": {
        "id": "xfeDG2hgTmhS"
      },
      "source": [
        "**Conclusion:**\n",
        "\n",
        "The results of the GRU RNN model on the Shakespeare dataset are as follows:\n",
        "\n",
        "![grurnn](https://github.com/ZhaohuiWang-github/COMP664-deep-learning/raw/main/hw7_data/GRU%20RNN%20Training%20Loss.png)\n",
        "\n",
        "- The time spent on training was **5min 24s**. \n",
        "- The training time of GRU RNN is significantly longer than that of  Vanilla RNN, since GRU RNN has a more complex structure and more parameters.\n",
        "\n",
        "- We can see that the fluctuation of the loss is also very dramatic during the training process. After 2000 epochs, the loss is reduced to about **1.8**.\n",
        "- Relatively speaking, the loss of GRU RNN is slightly smaller than that of Vanilla RNN, but the difference is not very significant.\n",
        "\n",
        "Similarly, I set the start character to `wh` and the length of the generated samples to 200, and got 3 samples as follows:\n",
        "\n",
        "```\n",
        "Sample 1:  whee a my the wordiaven\n",
        "           arither? this that truce-days.\n",
        "happs,\n",
        "and as the for worrether can my faighter,\n",
        "the secnaom dewet these but, so as for the will mard:\n",
        "       sir one, a thou vieli\n",
        "\n",
        "Sample 2:  whered hath i some frowned,\n",
        "             wind this been the drus, thou fair this crove am, it so mearn any not hath man\n",
        "    no she lord he wind? no mundace. the a copless,\n",
        "\n",
        "   that him somed the she\n",
        "\n",
        "Sample 3:  whis his this that by he manad, happ,\n",
        "but\n",
        "     thy duke i courn with forther, 'twordanded?\n",
        "such suing empertaur but see of the agencar, no the shall that viled\n",
        "    marted dischty my chary well consh\n",
        "\n",
        "```\n",
        "\n",
        "- We can find that the three generated samples are not very good either, with many wrong words, syntax errors, and unclear semantics. I was expecting more realistic samples generated by the GRU model, but found that it was not obvious.\n"
      ]
    },
    {
      "cell_type": "markdown",
      "metadata": {
        "id": "jlXiy45YY-Q6"
      },
      "source": [
        "**Conclusion:**\n",
        "\n",
        "The smaller, simpler dataset I chose is from [Pytorch Tutorials](https://pytorch.org/tutorials/intermediate/char_rnn_generation_tutorial.html), and I only used the [`Chinese.txt`](https://github.com/ZhaohuiWang-github/COMP664-deep-learning/blob/main/hw7_data/Chinese.txt) in it. This dataset records some Chinese names, and it has only 1247 total characters. And the names themselves are also very short. \n",
        "\n",
        "The results of the Vanilla RNN model on the Chinese Name dataset are as follows:\n",
        "\n",
        "![vrnn](https://github.com/ZhaohuiWang-github/COMP664-deep-learning/raw/main/hw7_data/Vanilla%20RNN%20Training%20Loss%20of%20Chinese%20Names.png)\n",
        "\n",
        "- The time spent on training was **3min 51s**.\n",
        "- We can see that the fluctuations of loss on the Chinese Name dataset are significantly smaller than those on the Shakespeare dataset. After 2000 epochs, the loss is reduced to about **0.07**, which is lower than it was for the Shakespeare data.\n",
        "\n",
        "Then, I set the start character to `na` and the length of the generated samples to 12, and got 3 samples as follows:\n",
        "\n",
        "```\n",
        "Sample 1: \n",
        "nao\n",
        "shao\n",
        "shaw\n",
        "\n",
        "\n",
        "Sample 2: \n",
        "nao\n",
        "chen\n",
        "cheng\n",
        "\n",
        "Sample 3: \n",
        "na\n",
        "hiu\n",
        "hong\n",
        "ho\n",
        "\n",
        "```\n",
        "\n",
        "- We can find more than half of the samples look like Chinese names.\n",
        "- The model performs significantly better on the Chinese Name dataset than on the Shakespeare dataset, regardless of the loss values or the degree of reality of the generated samples. This may be due to the fact that the names themselves are simpler than sentences or paragraphs."
      ]
    },
    {
      "cell_type": "markdown",
      "metadata": {
        "id": "yT3RnBIwgDZj"
      },
      "source": [
        "**Conclusion:** \n",
        "\n",
        "The results of the GRU RNN model on the Chinese Name dataset are as follows:\n",
        "\n",
        "![grurnn](https://github.com/ZhaohuiWang-github/COMP664-deep-learning/raw/main/hw7_data/GRU%20RNN%20Training%20Loss%20of%20Chinese%20Names.png)\n",
        "\n",
        "- The time spent on training was **5min 29s**. \n",
        "- Similarly, the training time of GRU RNN is significantly longer than that of Vanilla RNN, since GRU RNN has a more complex structure and more parameters.\n",
        "\n",
        "- Obviously, the loss curve of the GRU RNN model is better and smoother than that of the Vanilla RNN model on the Chinese Name dataset. After 2000 epochs, the loss is reduced to about **0.04**, which is lower than it was for the Vanilla RNN model, and it is lower than it was for the Shakespeare data.\n",
        "\n",
        "Similarly, I set the start character to `na` and the length of the generated samples to 12, and got 3 samples as follows:\n",
        "\n",
        "```\n",
        "Sample 1: \n",
        "nang\n",
        "luo\n",
        "mah\n",
        "m\n",
        "\n",
        "Sample 2: \n",
        "nang\n",
        "zhao\n",
        "zhen\n",
        "\n",
        "Sample 3: \n",
        "nang\n",
        "jin\n",
        "jing\n",
        "```\n",
        "\n",
        "- There are also more than half of the samples that look like Chinese names.\n",
        "- Therefore, whether it is the Vanilla RNN or the GRU RNN, the performance on the Chinese Name dataset is significantly better than the performance on the Shakespeare dataset.\n"
      ]
    },
    {
      "cell_type": "markdown",
      "metadata": {
        "id": "NfDRJkFYNRoc"
      },
      "source": [
        "## Code"
      ]
    },
    {
      "cell_type": "markdown",
      "metadata": {
        "id": "puOFLdb-uH95"
      },
      "source": [
        "### Prepare Data"
      ]
    },
    {
      "cell_type": "code",
      "execution_count": null,
      "metadata": {
        "id": "SjTL-5BqaVz9",
        "vscode": {
          "languageId": "python"
        }
      },
      "outputs": [],
      "source": [
        "import requests\n",
        "import random\n",
        "import re\n",
        "\n",
        "import torch\n",
        "import torch.nn as nn\n",
        "from torch.autograd import Variable\n",
        "\n",
        "# Shakespeare dataset\n",
        "# filename = \"https://www.gutenberg.org/files/100/100-0.txt\"\n",
        "\n",
        "# Chinese Names dataset\n",
        "filename = \"https://github.com/ZhaohuiWang-github/COMP664-deep-learning/raw/main/hw7_data/Chinese.txt\"\n",
        "\n",
        "file = requests.get(filename)\n",
        "file = file.text\n",
        "\n",
        "# Or read local file\n",
        "# file = open('shakespeare.txt').read()"
      ]
    },
    {
      "cell_type": "code",
      "execution_count": null,
      "metadata": {
        "colab": {
          "base_uri": "https://localhost:8080/"
        },
        "id": "hAP84bsdfleg",
        "outputId": "02b8d766-6abb-4a1c-e716-0613d3f73e0f",
        "vscode": {
          "languageId": "python"
        }
      },
      "outputs": [
        {
          "name": "stdout",
          "output_type": "stream",
          "text": [
            "Looking in indexes: https://pypi.org/simple, https://us-python.pkg.dev/colab-wheels/public/simple/\n",
            "Requirement already satisfied: Unidecode in /usr/local/lib/python3.8/dist-packages (1.3.6)\n"
          ]
        }
      ],
      "source": [
        "# Remove non-alphabetical characters, lowercase, and replace whitespace with ' '\n",
        "# file = ' '.join(re.sub('[^A-Za-z ]+', '', file).lower().split())\n",
        "# file = ''.join(re.sub('[^A-Za-z ]+', '', file).lower().split())\n",
        "\n",
        "\n",
        "# I find that unidecode works better\n",
        "!pip install Unidecode\n",
        "import unidecode\n",
        "file = unidecode.unidecode(file).lower()"
      ]
    },
    {
      "cell_type": "code",
      "execution_count": null,
      "metadata": {
        "colab": {
          "base_uri": "https://localhost:8080/",
          "height": 35
        },
        "id": "aHqxcigxvgcD",
        "outputId": "f43bf0f8-9a1d-4c51-f1da-13b925966170",
        "vscode": {
          "languageId": "python"
        }
      },
      "outputs": [
        {
          "data": {
            "application/vnd.google.colaboratory.intrinsic+json": {
              "type": "string"
            },
            "text/plain": [
              "'kzlcas-:jiboqrxynpugedhtw\\n mf'"
            ]
          },
          "execution_count": 3,
          "metadata": {},
          "output_type": "execute_result"
        }
      ],
      "source": [
        "# all different charcters in the dataset\n",
        "all_characters = ''.join(set(file))\n",
        "all_characters"
      ]
    },
    {
      "cell_type": "code",
      "execution_count": null,
      "metadata": {
        "colab": {
          "base_uri": "https://localhost:8080/"
        },
        "id": "4SY1Mr5UtG1x",
        "outputId": "8482c98c-8d9f-4b77-8900-4fa524765167",
        "vscode": {
          "languageId": "python"
        }
      },
      "outputs": [
        {
          "data": {
            "text/plain": [
              "29"
            ]
          },
          "execution_count": 6,
          "metadata": {},
          "output_type": "execute_result"
        }
      ],
      "source": [
        "# Number of different characters in the dataset\n",
        "n_characters = len(set(file))\n",
        "n_characters"
      ]
    },
    {
      "cell_type": "code",
      "execution_count": null,
      "metadata": {
        "colab": {
          "base_uri": "https://localhost:8080/"
        },
        "id": "M4vNSn2ytYE5",
        "outputId": "e580dd0a-b1cc-4677-d977-fa85c9f657a1",
        "vscode": {
          "languageId": "python"
        }
      },
      "outputs": [
        {
          "data": {
            "text/plain": [
              "1247"
            ]
          },
          "execution_count": 7,
          "metadata": {},
          "output_type": "execute_result"
        }
      ],
      "source": [
        "# length of the dataset\n",
        "file_len = len(file)\n",
        "file_len"
      ]
    },
    {
      "cell_type": "code",
      "execution_count": null,
      "metadata": {
        "colab": {
          "base_uri": "https://localhost:8080/"
        },
        "id": "dgtJEY4ntaP8",
        "outputId": "ee7cd88a-5446-480e-aaf2-713dff1cdf57",
        "vscode": {
          "languageId": "python"
        }
      },
      "outputs": [
        {
          "name": "stdout",
          "output_type": "stream",
          "text": [
            "e \n",
            "seow\n",
            "seto\n",
            "sha\n",
            "shan\n",
            "shang\n",
            "shao\n",
            "shaw\n",
            "she\n",
            "shen\n",
            "sheng\n",
            "shi\n",
            "shu\n",
            "shuai\n",
            "shui\n",
            "shum\n",
            "siew\n",
            "siu\n",
            "song\n",
            "sum\n",
            "sun\n",
            "sze \n",
            "tan\n",
            "tang\n",
            "tao\n",
            "teng\n",
            "teoh\n",
            "thean\n",
            "thian\n",
            "thien\n",
            "tian\n",
            "tong\n",
            "tow\n",
            "tsang\n",
            "tse\n",
            "tsen\n",
            "tso\n",
            "tze\n",
            "wan\n",
            "wang\n",
            "wei\n",
            "wen\n",
            "we\n"
          ]
        }
      ],
      "source": [
        "# To make inputs out of this big string of data, we will be splitting it into chunks\n",
        "chunk_len = 200\n",
        "\n",
        "def random_chunk():\n",
        "    start_index = random.randint(0, file_len - chunk_len)\n",
        "    end_index = start_index + chunk_len + 1\n",
        "    return file[start_index:end_index]\n",
        "\n",
        "print(random_chunk())"
      ]
    },
    {
      "cell_type": "code",
      "execution_count": null,
      "metadata": {
        "colab": {
          "base_uri": "https://localhost:8080/"
        },
        "id": "j_xi8SlqvPJD",
        "outputId": "0b21d827-edeb-4840-ccdc-a3585ace9853",
        "vscode": {
          "languageId": "python"
        }
      },
      "outputs": [
        {
          "name": "stdout",
          "output_type": "stream",
          "text": [
            "tensor([ 4, 10,  3, 21])\n"
          ]
        }
      ],
      "source": [
        "# Turn string into list of token index\n",
        "def char_tensor(string):\n",
        "    tensor = torch.zeros(len(string)).long()\n",
        "    for c in range(len(string)):\n",
        "        tensor[c] = all_characters.index(string[c])\n",
        "    return Variable(tensor)\n",
        "\n",
        "print(char_tensor('abcd'))"
      ]
    },
    {
      "cell_type": "code",
      "execution_count": null,
      "metadata": {
        "colab": {
          "base_uri": "https://localhost:8080/"
        },
        "id": "UytpcE1LxQi5",
        "outputId": "af08c984-206d-4739-a7ca-59a8032a8e3b",
        "vscode": {
          "languageId": "python"
        }
      },
      "outputs": [
        {
          "data": {
            "text/plain": [
              "(tensor([19, 25,  3, 22, 20, 24, 25,  3, 22,  9, 20, 18, 25,  3, 22,  9, 16, 25,\n",
              "          3, 22, 11, 16, 19, 25,  3, 22, 11, 18, 25,  3, 22, 18, 25,  3, 18,  9,\n",
              "         25, 21,  4,  9, 25, 21, 20, 16, 19, 25, 21,  9, 16, 19, 25, 21, 11, 16,\n",
              "         19, 25, 21, 11, 18, 25, 21, 18,  4, 16, 25, 20, 16, 19, 25, 28,  4, 16,\n",
              "         25, 28, 20,  9, 25, 28, 20, 16, 19, 25, 28, 11, 11, 16, 19, 25, 28, 18,\n",
              "         16, 19, 25, 19,  4, 16, 25, 19,  4, 18,  0, 25, 19, 20, 16, 19, 25, 19,\n",
              "          9, 27, 25, 19, 11,  0, 25, 19, 11, 16, 19, 25, 19, 18,  4, 16, 25, 19,\n",
              "         18,  4, 16, 19, 25, 19, 18, 11, 25, 19, 24, 11,  3,  0, 25, 22,  4, 16,\n",
              "         25, 22,  4, 16, 19, 25, 22,  4, 11, 25, 22, 20, 24, 25, 22,  9, 18, 25,\n",
              "         22, 11, 16, 19, 25, 22, 11, 13, 25, 22,  5,  9,  4, 11, 25, 22, 18,  4,\n",
              "         25, 22, 18,  4, 16, 25, 22, 18,  4, 16, 19, 25, 22, 18,  9, 25, 22, 18,\n",
              "          9, 20]),\n",
              " tensor([25,  3, 22, 20, 24, 25,  3, 22,  9, 20, 18, 25,  3, 22,  9, 16, 25,  3,\n",
              "         22, 11, 16, 19, 25,  3, 22, 11, 18, 25,  3, 22, 18, 25,  3, 18,  9, 25,\n",
              "         21,  4,  9, 25, 21, 20, 16, 19, 25, 21,  9, 16, 19, 25, 21, 11, 16, 19,\n",
              "         25, 21, 11, 18, 25, 21, 18,  4, 16, 25, 20, 16, 19, 25, 28,  4, 16, 25,\n",
              "         28, 20,  9, 25, 28, 20, 16, 19, 25, 28, 11, 11, 16, 19, 25, 28, 18, 16,\n",
              "         19, 25, 19,  4, 16, 25, 19,  4, 18,  0, 25, 19, 20, 16, 19, 25, 19,  9,\n",
              "         27, 25, 19, 11,  0, 25, 19, 11, 16, 19, 25, 19, 18,  4, 16, 25, 19, 18,\n",
              "          4, 16, 19, 25, 19, 18, 11, 25, 19, 24, 11,  3,  0, 25, 22,  4, 16, 25,\n",
              "         22,  4, 16, 19, 25, 22,  4, 11, 25, 22, 20, 24, 25, 22,  9, 18, 25, 22,\n",
              "         11, 16, 19, 25, 22, 11, 13, 25, 22,  5,  9,  4, 11, 25, 22, 18,  4, 25,\n",
              "         22, 18,  4, 16, 25, 22, 18,  4, 16, 19, 25, 22, 18,  9, 25, 22, 18,  9,\n",
              "         20, 25]))"
            ]
          },
          "execution_count": 10,
          "metadata": {},
          "output_type": "execute_result"
        }
      ],
      "source": [
        "# Assemble a pair of input and target tensors for training from a random chunk\n",
        "def random_training_set():    \n",
        "    chunk = random_chunk()\n",
        "    inp = char_tensor(chunk[:-1])\n",
        "    target = char_tensor(chunk[1:])\n",
        "    return inp, target\n",
        "\n",
        "random_training_set()"
      ]
    },
    {
      "cell_type": "markdown",
      "metadata": {
        "id": "o42mqPbOuLkR"
      },
      "source": [
        "### Build the RNN Model\n",
        "\n",
        "This model will take as input the character for step $t_{-1}$ and is expected to output the next character $t$. There are three layers - one linear layer that encodes the input character into an internal state, one vanilla RNN layer or GRU RNN layer that operates on that internal state and a hidden state, and a decoder layer that outputs the probability distribution."
      ]
    },
    {
      "cell_type": "code",
      "execution_count": null,
      "metadata": {
        "id": "E7DCr_gPuCK2",
        "vscode": {
          "languageId": "python"
        }
      },
      "outputs": [],
      "source": [
        "# Vanilla RNN or GRU RNN\n",
        "class RNN(nn.Module):\n",
        "    def __init__(self, input_size, hidden_size, output_size, n_layers=1):\n",
        "        super(RNN, self).__init__()\n",
        "        self.input_size = input_size\n",
        "        self.hidden_size = hidden_size\n",
        "        self.output_size = output_size\n",
        "        self.n_layers = n_layers\n",
        "        \n",
        "        self.encoder = nn.Embedding(input_size, hidden_size)\n",
        "\n",
        "        # ------------------ GRU RNN ------------------\n",
        "        # GRU RNN\n",
        "        self.gru = nn.GRU(hidden_size, hidden_size, n_layers)\n",
        "        \n",
        "        # ------------------ Vanilla RNN --------------\n",
        "        # Vanilla RNN\n",
        "        # self.rnn = nn.RNN(hidden_size, hidden_size, n_layers)\n",
        "\n",
        "        self.decoder = nn.Linear(hidden_size, output_size)\n",
        "    \n",
        "\n",
        "    def forward(self, input, hidden):\n",
        "        input = self.encoder(input.view(1, -1))\n",
        "\n",
        "        # ------------------ GRU RNN ------------------\n",
        "        # GRU RNN\n",
        "        output, hidden = self.gru(input.view(1, 1, -1), hidden)\n",
        "\n",
        "        # ------------------ Vanilla RNN --------------\n",
        "        # Vanilla RNN\n",
        "        # output, hidden = self.rnn(input.view(1, 1, -1), hidden)\n",
        "\n",
        "        output = self.decoder(output.view(1, -1))\n",
        "        return output, hidden\n",
        "\n",
        "\n",
        "    def init_hidden(self):\n",
        "        return Variable(torch.zeros(self.n_layers, 1, self.hidden_size))"
      ]
    },
    {
      "cell_type": "markdown",
      "metadata": {
        "id": "tt0EIGFK1QZz"
      },
      "source": [
        "### Train"
      ]
    },
    {
      "cell_type": "code",
      "execution_count": null,
      "metadata": {
        "id": "YDMN5Wwi1kcP",
        "vscode": {
          "languageId": "python"
        }
      },
      "outputs": [],
      "source": [
        "# define the training parameters\n",
        "hidden_size = 100\n",
        "n_layers = 1\n",
        "lr = 0.005\n",
        "\n",
        "# instantiate the model\n",
        "decoder = RNN(n_characters, hidden_size, n_characters, n_layers)\n",
        "decoder_optimizer = torch.optim.Adam(decoder.parameters(), lr=lr)\n",
        "criterion = nn.CrossEntropyLoss()"
      ]
    },
    {
      "cell_type": "code",
      "execution_count": null,
      "metadata": {
        "id": "caPe4GS701jt",
        "vscode": {
          "languageId": "python"
        }
      },
      "outputs": [],
      "source": [
        "# A helper to print the amount of time passed\n",
        "import time, math\n",
        "\n",
        "def time_since(since):\n",
        "    s = time.time() - since\n",
        "    m = math.floor(s / 60)\n",
        "    s -= m * 60\n",
        "    return '%dm %ds' % (m, s)"
      ]
    },
    {
      "cell_type": "code",
      "execution_count": null,
      "metadata": {
        "id": "ZH5NNTVD1T8F",
        "vscode": {
          "languageId": "python"
        }
      },
      "outputs": [],
      "source": [
        "# Training function\n",
        "def train(inp, target):\n",
        "    hidden = decoder.init_hidden()\n",
        "    decoder.zero_grad()\n",
        "    loss = 0\n",
        "\n",
        "    target = target.reshape(-1, 1)\n",
        "\n",
        "    for c in range(chunk_len-1):\n",
        "        output, hidden = decoder(inp[c], hidden)\n",
        "        loss += criterion(output, target[c])\n",
        "\n",
        "    loss.backward()\n",
        "    decoder_optimizer.step()\n",
        "\n",
        "    # print(loss.item())\n",
        "    return loss.item() / chunk_len"
      ]
    },
    {
      "cell_type": "code",
      "execution_count": null,
      "metadata": {
        "colab": {
          "base_uri": "https://localhost:8080/"
        },
        "id": "ZrtsJR9b18Uu",
        "outputId": "a1910797-90e7-4005-9a8e-3bc601d4c275",
        "vscode": {
          "languageId": "python"
        }
      },
      "outputs": [
        {
          "name": "stdout",
          "output_type": "stream",
          "text": [
            "0m 26s (100 5%) 0.7024\n",
            "0m 43s (200 10%) 0.2602\n",
            "1m 0s (300 15%) 0.1318\n",
            "1m 15s (400 20%) 0.0492\n",
            "1m 31s (500 25%) 0.0328\n",
            "1m 47s (600 30%) 0.0644\n",
            "2m 6s (700 35%) 0.0454\n",
            "2m 22s (800 40%) 0.0268\n",
            "2m 38s (900 45%) 0.0274\n",
            "2m 54s (1000 50%) 0.0484\n",
            "3m 11s (1100 55%) 0.0425\n",
            "3m 26s (1200 60%) 0.0744\n",
            "3m 42s (1300 65%) 0.0301\n",
            "3m 59s (1400 70%) 0.0416\n",
            "4m 16s (1500 75%) 0.0528\n",
            "4m 31s (1600 80%) 0.0366\n",
            "4m 47s (1700 85%) 0.0236\n",
            "5m 4s (1800 90%) 0.0276\n",
            "5m 20s (1900 95%) 0.0332\n",
            "5m 36s (2000 100%) 0.0407\n"
          ]
        }
      ],
      "source": [
        "# train\n",
        "start = time.time()\n",
        "all_losses = []\n",
        "loss_avg = 0\n",
        "\n",
        "n_epochs = 2000\n",
        "print_every = 100\n",
        "\n",
        "for epoch in range(1, n_epochs + 1):\n",
        "    loss = train(*random_training_set())\n",
        "    \n",
        "    if epoch % print_every == 0:\n",
        "        print('%s (%d %d%%) %.4f' % (time_since(start), epoch, epoch / n_epochs * 100, loss))\n",
        "    \n",
        "    all_losses.append(loss)"
      ]
    },
    {
      "cell_type": "code",
      "execution_count": null,
      "metadata": {
        "colab": {
          "base_uri": "https://localhost:8080/",
          "height": 295
        },
        "id": "qN75WOY73Du1",
        "outputId": "354d7fad-a9f8-4a6b-a71c-6b3564fbcafc",
        "vscode": {
          "languageId": "python"
        }
      },
      "outputs": [
        {
          "data": {
            "image/png": "[encoded data removed]",
            "text/plain": [
              "<Figure size 432x288 with 1 Axes>"
            ]
          },
          "metadata": {
            "needs_background": "light"
          },
          "output_type": "display_data"
        }
      ],
      "source": [
        "# Plot the loss\n",
        "import matplotlib.pyplot as plt\n",
        "\n",
        "plt.figure()\n",
        "plt.plot(all_losses)\n",
        "plt.xlabel('Epoch')\n",
        "plt.ylabel('Loss')\n",
        "plt.title('GRU RNN Training Loss of Chinese Names Dataset')\n",
        "plt.show()"
      ]
    },
    {
      "cell_type": "markdown",
      "metadata": {
        "id": "vFNiKLrLqGYa"
      },
      "source": [
        "### Prediction"
      ]
    },
    {
      "cell_type": "code",
      "execution_count": null,
      "metadata": {
        "id": "Rfe_i3Tk0CCB",
        "vscode": {
          "languageId": "python"
        }
      },
      "outputs": [],
      "source": [
        "# Predict\n",
        "def predict(prime_str='a', predict_len=100, temperature=0.8):\n",
        "    hidden = decoder.init_hidden()\n",
        "    prime_input = char_tensor(prime_str)\n",
        "    predicted = prime_str\n",
        "\n",
        "    # Use priming string to \"build up\" hidden state\n",
        "    for p in range(len(prime_str) - 1):\n",
        "        _, hidden = decoder(prime_input[p], hidden)\n",
        "\n",
        "    inp = prime_input[-1]\n",
        "    \n",
        "    for p in range(predict_len):\n",
        "        output, hidden = decoder(inp, hidden)\n",
        "        \n",
        "        # Sample from the network as a multinomial distribution\n",
        "        output_dist = output.data.view(-1).div(temperature).exp()\n",
        "        top_i = torch.multinomial(output_dist, 1)[0]\n",
        "        \n",
        "        # Add predicted character to string and use as next input\n",
        "        predicted_char = all_characters[top_i]\n",
        "        predicted += predicted_char\n",
        "        inp = char_tensor(predicted_char)\n",
        "\n",
        "    return predicted"
      ]
    },
    {
      "cell_type": "code",
      "execution_count": null,
      "metadata": {
        "id": "rK-WofZWj3WH",
        "vscode": {
          "languageId": "python"
        }
      },
      "outputs": [],
      "source": [
        "# Generate samples for Shakespeare dataset\n",
        "# for i in range(3):\n",
        "#     print('Sample %d: ' %(i+1), predict('wh', 200))\n",
        "#     print()"
      ]
    },
    {
      "cell_type": "code",
      "execution_count": null,
      "metadata": {
        "colab": {
          "base_uri": "https://localhost:8080/"
        },
        "id": "JPTFeMp6yAlQ",
        "outputId": "d3c1e049-9b11-46cf-85a4-52d9f25a22b4",
        "vscode": {
          "languageId": "python"
        }
      },
      "outputs": [
        {
          "name": "stdout",
          "output_type": "stream",
          "text": [
            "Sample 1: \n",
            "nang\n",
            "luo\n",
            "mah\n",
            "m\n",
            "\n",
            "Sample 2: \n",
            "nang\n",
            "zhao\n",
            "zhen\n",
            "\n",
            "Sample 3: \n",
            "nang\n",
            "jin\n",
            "jing\n",
            "\n",
            "\n"
          ]
        }
      ],
      "source": [
        "# Generate samples for Chinese Names dataset\n",
        "for i in range(3):\n",
        "    print('Sample %d: ' %(i+1))\n",
        "    print(predict('na', 12))\n",
        "    print()"
      ]
    },
    {
      "attachments": {},
      "cell_type": "markdown",
      "metadata": {},
      "source": [
        "**References:**\n",
        "- [Practical PyTorch: Generating Shakespeare with a Character-Level RNN](https://github.com/spro/practical-pytorch/tree/master/char-rnn-generation)\n",
        "- [NLP From Scratch: Generating Names with a Character-Level RNN](https://pytorch.org/tutorials/intermediate/char_rnn_generation_tutorial.html)"
      ]
    }
  ],
  "metadata": {
    "colab": {
      "provenance": []
    },
    "kernelspec": {
      "display_name": "Python 3",
      "name": "python3"
    }
  },
  "nbformat": 4,
  "nbformat_minor": 0
}
