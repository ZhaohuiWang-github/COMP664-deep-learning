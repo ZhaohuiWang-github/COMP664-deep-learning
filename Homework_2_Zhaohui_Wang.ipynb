{
  "cells": [
    {
      "cell_type": "markdown",
      "metadata": {
        "id": "0VV0ToY_fa2M"
      },
      "source": [
        "# 1. Logistic Regression for Binary Classification (1.5 points)\n",
        "\n",
        "In softmax regression, the model's output probabilities are given by\n",
        "\n",
        "$$p(y|\\mathbf{o}) = \\mathrm{softmax}(\\mathbf{o})_y = \\frac{\\exp(o_y)}{\\sum_{y'} \\exp(o_{y'})}$$\n",
        "\n",
        "1. Show that this parametrization has a spurious degree of freedom. That is, show that both $\\mathbf{o}$ and $\\mathbf{o} + c$ with $c \\in \\mathbb{R}$ lead to the same probability estimate.\n",
        "\n",
        "**Solution:**\n",
        "\n",
        "$$\\frac{\\exp(o_y + c)}{\\sum_{y'} \\exp(o_{y'} + c)} = \\frac{\\exp(o_y) \\times \\exp(c)}{\\exp(c) \\times \\sum_{y'} \\exp(o_{y'})} = \\frac{\\exp(o_y)}{\\sum_{y'} \\exp(o_{y'})}$$  \n",
        "\n",
        "<br>\n",
        "2. For binary classification, i.e. whenever we have only two classes $\\{-1, 1\\}$, we can arbitrarily set $o_{-1} = 0$. Using the shorthand $o = o_1$ show that this is equivalent to \n",
        "\n",
        "$$p(y=1|o) = \\frac{1}{1 + \\exp(-o)}$$\n",
        "\n",
        "**Solution:**\n",
        "\n",
        "$$p(y=1|o_{-1}=0, o_1=o) = \\frac{exp(o_1)}{exp(o_{-1}) + exp(o_1)} = \\frac{exp(o)}{exp(0) + exp(o)} = \\frac{exp(o)}{1 + exp(o)} = \\frac{1}{exp(-o) \\times (1+exp(-o))} = \\frac{1}{1 + exp(-o)}$$\n",
        "\n",
        "<br>\n",
        "3. Show that the log-likelihood loss (often called logistic loss) for labels $y \\in \\{-1, 1\\}$ is thus given by \n",
        "\n",
        "$$-\\log p(y|o) = \\log (1 + \\exp(-y \\cdot o))$$\n",
        "\n",
        "**Solution:**\n",
        "\n",
        "$$p(y=-1|o) = 1 - p(y=1|o) = 1 - \\frac{1}{1 + \\exp(-o)} = \\frac{\\exp(-o)}{1 + \\exp(-o)} = \\frac{1}{1 + \\exp(o)}$$\n",
        "\n",
        "This and 1.2 give \n",
        "\n",
        "$$p(y|o) = \\frac{1}{1 + \\exp(-y \\cdot o)}$$\n",
        "\n",
        "Therefore, \n",
        "\n",
        "$$-\\log p(y|o) = -log(\\frac{1}{1 + \\exp(-y \\cdot o)}) = log(1 + \\exp(-y \\cdot o))$$\n",
        "\n",
        "<br>\n",
        "4. Show that for $y = 1$ the logistic loss asymptotes to $0$ for $o \\to \\infty$ and to $\\infty$ for $o \\to -\\infty$. \n",
        "\n",
        "**Solution:**\n",
        "\n",
        "$$\\lim_{o\\rightarrow\\infty}log(1 + \\exp(-o)) = log(1+\\lim_{o\\rightarrow\\infty}\\exp(-o)) = log(1) = 0$$\n",
        "\n",
        "$$\\lim_{o\\rightarrow-\\infty}log(1 + \\exp(-o)) = log(1+\\lim_{o\\rightarrow-\\infty}\\exp(-o)) = log(1+\\lim_{o\\rightarrow\\infty}\\exp(o)) = \\infty$$\n",
        "\n",
        "<br>"
      ]
    },
    {
      "cell_type": "markdown",
      "metadata": {
        "id": "dMcRnYVRfxfp"
      },
      "source": [
        "# 2. Implementing the logistic loss (1 point)\n"
      ]
    },
    {
      "cell_type": "markdown",
      "metadata": {
        "id": "t96tNTHfV6po"
      },
      "source": [
        "1. Implement the binary logistic loss $l(y,o) = \\log (1 + \\exp(-y \\cdot o))$ in numpy."
      ]
    },
    {
      "cell_type": "code",
      "execution_count": 4,
      "metadata": {
        "id": "kT0dlnu3URvF"
      },
      "outputs": [],
      "source": [
        "import numpy as np\n",
        "import matplotlib.pyplot as plt"
      ]
    },
    {
      "cell_type": "code",
      "execution_count": 5,
      "metadata": {
        "id": "mvVT-sTYTB3Q"
      },
      "outputs": [],
      "source": [
        "# the binary logistic loss\n",
        "def binary_logistic_loss(y, o):\n",
        "    return np.log(1 + np.exp(-y * o))\n"
      ]
    },
    {
      "cell_type": "markdown",
      "metadata": {
        "id": "kvDvelnCV9cH"
      },
      "source": [
        "2. Plot its values for $y \\in \\{-1, 1\\}$ over the range of $o \\in [-5, 5]$."
      ]
    },
    {
      "cell_type": "code",
      "execution_count": null,
      "metadata": {
        "id": "Qeiz-OXoX8pq"
      },
      "outputs": [],
      "source": [
        "o = np.arange(-5, 5, 0.01)\n",
        "loss_y_1 = binary_logistic_loss(1, o)\n",
        "loss_y_neg_1 = binary_logistic_loss(-1, o)"
      ]
    },
    {
      "cell_type": "code",
      "execution_count": null,
      "metadata": {
        "colab": {
          "base_uri": "https://localhost:8080/",
          "height": 404
        },
        "id": "xjspbQZUWCA-",
        "outputId": "12672862-3449-43b5-e6ec-7509697ebcf7"
      },
      "outputs": [
        {
          "data": {
            "image/png": "[encoded data removed]",
            "text/plain": [
              "<Figure size 576x432 with 1 Axes>"
            ]
          },
          "metadata": {
            "needs_background": "light"
          },
          "output_type": "display_data"
        }
      ],
      "source": [
        "plt.figure(figsize=(8, 6))\n",
        "plt.title('Binary Logistic Loss')\n",
        "plt.plot(o, loss_y_1, label = '$y = 1$')\n",
        "plt.plot(o, loss_y_neg_1, label = '$y = -1$')\n",
        "# plt.xlim(-5, 5)\n",
        "plt.xlabel('o')\n",
        "plt.ylabel('loss')\n",
        "plt.legend()\n",
        "plt.show()"
      ]
    },
    {
      "cell_type": "markdown",
      "metadata": {
        "id": "S1pUx6JnWE_o"
      },
      "source": [
        "3. Derive the derivative of $l(y,o)$ and show your work. Then, in a new plot, plot derivative of $l(y,o)$ with respect to $o$ for $y \\in \\{-1, 1\\}$ and for $o \\in [-5, 5]$ without using any automatic differentiation software (e.g. Pytorch, TensorFlow, JAX, etc.)."
      ]
    },
    {
      "cell_type": "markdown",
      "metadata": {
        "id": "Z7l-te45fDcC"
      },
      "source": [
        "$$\\frac{d l(y,o)}{d o} = \\frac{1}{1+\\exp(-y \\cdot o))} \\times \\exp(-y \\cdot o) \\times (-y) = \\frac{-y}{1 + \\exp(y \\cdot o)}$$"
      ]
    },
    {
      "cell_type": "code",
      "execution_count": 6,
      "metadata": {
        "id": "II_ldHR4WF-r"
      },
      "outputs": [],
      "source": [
        "# derivative of binary logistic loss\n",
        "def binary_logistic_loss_derivative(y, o):\n",
        "    return (-y)/(1 + np.exp(y * o))\n"
      ]
    },
    {
      "cell_type": "code",
      "execution_count": null,
      "metadata": {
        "id": "gIupZF_mg2GM"
      },
      "outputs": [],
      "source": [
        "o = np.arange(-5, 5, 0.01)\n",
        "d_loss_y_1 = binary_logistic_loss_derivative(1, o)\n",
        "d_loss_y_neg_1 = binary_logistic_loss_derivative(-1, o)\n"
      ]
    },
    {
      "cell_type": "code",
      "execution_count": null,
      "metadata": {
        "colab": {
          "base_uri": "https://localhost:8080/",
          "height": 404
        },
        "id": "0kt2OPbYhoI6",
        "outputId": "bad2466c-7b17-467d-a293-d80e5535e2f9"
      },
      "outputs": [
        {
          "data": {
            "image/png": "[encoded data removed]",
            "text/plain": [
              "<Figure size 576x432 with 1 Axes>"
            ]
          },
          "metadata": {
            "needs_background": "light"
          },
          "output_type": "display_data"
        }
      ],
      "source": [
        "plt.figure(figsize=(8, 6))\n",
        "plt.title('Derivative of Binary Logistic Loss')\n",
        "plt.plot(o, d_loss_y_1, label = '$y = 1$')\n",
        "plt.plot(o, d_loss_y_neg_1, label = '$y = -1$')\n",
        "# plt.xlim(-5, 5)\n",
        "plt.xlabel('o')\n",
        "plt.ylabel('derivative of loss')\n",
        "plt.legend()\n",
        "plt.show()"
      ]
    },
    {
      "cell_type": "markdown",
      "metadata": {
        "id": "dwhUjCkRWKSm"
      },
      "source": [
        "4. In a new plot, plot $l(y,o)$ with $y = 1$ and $o ∈ [-1000, 1000]$. What happens for large positive and large negative values of $o$? Why?"
      ]
    },
    {
      "cell_type": "code",
      "execution_count": null,
      "metadata": {
        "colab": {
          "base_uri": "https://localhost:8080/"
        },
        "id": "5FkIfZO5WNjq",
        "outputId": "ae8092d8-879f-4e45-ff8a-02bee558558a"
      },
      "outputs": [
        {
          "name": "stderr",
          "output_type": "stream",
          "text": [
            "<ipython-input-21-79bc8482774e>:3: RuntimeWarning: overflow encountered in exp\n",
            "  return np.log(1 + np.exp(-y * o))\n"
          ]
        }
      ],
      "source": [
        "o = np.arange(-1000, 1000, 0.1)\n",
        "loss_y_1 = binary_logistic_loss(1, o)"
      ]
    },
    {
      "cell_type": "code",
      "execution_count": null,
      "metadata": {
        "colab": {
          "base_uri": "https://localhost:8080/",
          "height": 404
        },
        "id": "VfFM1q1fiyhU",
        "outputId": "6a6e38dd-9e7e-4513-b637-8c1d6efffb4a"
      },
      "outputs": [
        {
          "data": {
            "image/png": "[encoded data removed]",
            "text/plain": [
              "<Figure size 576x432 with 1 Axes>"
            ]
          },
          "metadata": {
            "needs_background": "light"
          },
          "output_type": "display_data"
        }
      ],
      "source": [
        "plt.figure(figsize=(8, 6))\n",
        "plt.title('Binary Logistic Loss')\n",
        "plt.plot(o, loss_y_1, label = '$y = 1$')\n",
        "# plt.plot(o, loss_y_neg_1, label = '$y = -1$')\n",
        "plt.xlim(-1000, 1000)\n",
        "plt.xlabel('o')\n",
        "plt.ylabel('loss')\n",
        "plt.legend()\n",
        "plt.show()"
      ]
    },
    {
      "cell_type": "markdown",
      "metadata": {
        "id": "d6_5L9OGlntk"
      },
      "source": [
        "When o is a large positive value, the loss is almost 0; when o is a large negative value, the loss is very large. This is because we have shown that for $y = 1$ the logistic loss asymptotes to $0$ for $o \\to \\infty$ and to $\\infty$ for $o \\to -\\infty$. "
      ]
    },
    {
      "cell_type": "markdown",
      "metadata": {
        "id": "pSBRk8vpsqA3"
      },
      "source": [
        "# 3. Implementing logistic regression (1.5 points)\n",
        "\n",
        "Implement a basic logistic regression model and fit it to the data from the new `generate_data` function (below) using gradient descent.\n",
        "Your model should take the form `o = m*x + b`, where `o` is the output (logits), `x` is the input, `m` is a weight parameter, and `b` is a bias parameter.\n",
        "Train the model using the logistic loss function you derived in the previous problem.\n",
        "You must use only `numpy` and derive any derivatives yourself (i.e. no autograd from TensorFlow, MXNet, Pytorch, JAX etc!).\n",
        "Print out or plot the loss over the course of training.\n",
        "You should be able to get a loss that is close to zero by the end of training - make sure you achieve this and **explain why**."
      ]
    },
    {
      "cell_type": "code",
      "execution_count": 7,
      "metadata": {
        "id": "L150buNSoFes"
      },
      "outputs": [],
      "source": [
        "import numpy as np\n",
        "\n",
        "def generate_data():\n",
        "    size = 1000\n",
        "    rng = np.random.default_rng(seed=0)\n",
        "    y = 2*rng.integers(0, 2, size) - 1\n",
        "    x = rng.standard_normal((1000,)) + 4*y\n",
        "    return x, y"
      ]
    },
    {
      "cell_type": "code",
      "execution_count": 8,
      "metadata": {
        "id": "XLe9YoFqfMzX"
      },
      "outputs": [],
      "source": [
        "x,y = generate_data()"
      ]
    },
    {
      "cell_type": "code",
      "execution_count": null,
      "metadata": {},
      "outputs": [],
      "source": [
        "# binary logistic regression\n",
        "def logistic_regression_model(x, m, b):\n",
        "    o = m*x +b\n",
        "    y = 1 / (1 + np.exp(-o))\n",
        "    return y\n"
      ]
    },
    {
      "cell_type": "code",
      "execution_count": 17,
      "metadata": {
        "id": "C5p_e7Tgrp5e"
      },
      "outputs": [],
      "source": [
        "# gradient descent\n",
        "def gradient_descent(lr, loss_threshold, x, y):\n",
        "    # initialize parameters\n",
        "    m = 1\n",
        "    b = 1\n",
        "    loss = loss_threshold + 1\n",
        "    loss_list = []\n",
        "    # use loss to control the number of iterations\n",
        "    while loss > loss_threshold:\n",
        "        # o\n",
        "        o = m*x + b\n",
        "        # loss\n",
        "        loss = binary_logistic_loss(y, o).sum() / len(x)\n",
        "        loss_list.append(loss)\n",
        "        # update the parameter\n",
        "        d_m = (x * binary_logistic_loss_derivative(y, o)).sum() / len(x)\n",
        "        d_b = (binary_logistic_loss_derivative(y, o)).sum() / len(x)\n",
        "        m = m - d_m\n",
        "        b = b - d_b\n",
        "        \n",
        "    return(loss_list, m, b)\n"
      ]
    },
    {
      "cell_type": "code",
      "execution_count": 34,
      "metadata": {
        "id": "unq1L9dKz3nS"
      },
      "outputs": [],
      "source": [
        "lr = 0.01\n",
        "loss_threshold = 0.00001\n",
        "loss_list, m, b = gradient_descent(lr, loss_threshold, x, y)"
      ]
    },
    {
      "cell_type": "code",
      "execution_count": 41,
      "metadata": {
        "colab": {
          "base_uri": "https://localhost:8080/",
          "height": 391
        },
        "id": "0I1lNJQ86av7",
        "outputId": "3f2fb506-aa5c-4361-8d42-c180c4c5692f"
      },
      "outputs": [
        {
          "data": {
            "image/png": "[encoded data removed]",
            "text/plain": [
              "<Figure size 720x432 with 1 Axes>"
            ]
          },
          "metadata": {
            "needs_background": "light"
          },
          "output_type": "display_data"
        }
      ],
      "source": [
        "# plot the loss\n",
        "plt.figure(figsize=(10, 6))\n",
        "plt.plot(loss_list)\n",
        "plt.xlabel('step')\n",
        "plt.ylabel('loss')\n",
        "plt.show()"
      ]
    },
    {
      "cell_type": "markdown",
      "metadata": {
        "id": "2uedvJme9xG6"
      },
      "source": [
        "I control the number of iterations during gradient descent by setting the threshold of loss. Here, I set the threshold of loss as 0.0001, that is, the loss after iteration is less than 0.0001, which is very close to 0."
      ]
    }
  ],
  "metadata": {
    "colab": {
      "provenance": []
    },
    "kernelspec": {
      "display_name": "Python 3",
      "name": "python3"
    },
    "language_info": {
      "name": "python"
    }
  },
  "nbformat": 4,
  "nbformat_minor": 0
}
