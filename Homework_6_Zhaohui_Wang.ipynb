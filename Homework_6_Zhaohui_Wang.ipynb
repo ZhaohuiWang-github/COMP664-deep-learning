{
  "nbformat": 4,
  "nbformat_minor": 0,
  "metadata": {
    "colab": {
      "provenance": []
    },
    "kernelspec": {
      "name": "python3",
      "display_name": "Python 3"
    },
    "accelerator": "GPU",
    "gpuClass": "standard"
  },
  "cells": [
    {
      "cell_type": "markdown",
      "metadata": {
        "id": "VYovBDSbwfYD"
      },
      "source": [
        "# 1. Batch normalization (2 points)\n",
        "\n",
        "Please make use of the model code from Homework 5 question 2 as you work on this question.\n",
        "\n",
        "1. If your model didn't use batch normalization, add it. If it already had batch normalization, remove it. How does the performance change? Please experiment with different learning rate values, since batch normalization can allow a different range of learning rates to work. You are welcome to write your own batch norm implementaiton or use a pre-existing one from mxnet or pytorch.\n",
        "1. Plot the squared L2 norm of gradients with respect to parameters over the course of training with and without batch normalization. To do this, you will need to compute the gradient of the loss over some data with respect to each parameter, square these gradients, and sum the result across all parameters. You can compute this value at each training step, or after each epoch. What difference does batch normalization make in terms of the squared L2 norm of gradients?"
      ]
    },
    {
      "cell_type": "markdown",
      "source": [
        "**Conclusion:**\n",
        "\n",
        "I practiced the performance of 3 learning rates with or without batch normalization, and the results are as follows:\n",
        "\n",
        "![lr_result](https://github.com/ZhaohuiWang-github/COMP664-deep-learning/raw/main/hw6_figure_1and2/lr_results.png) \n",
        "\n",
        "We can find that:\n",
        "- The accuracy of the model with batch normalization is generally higher than that without batch normalization.\n",
        "- The training time for models that use batch normalization tends to be longer than for models that do not use batch normalization.\n",
        "- The learning rate affects the accuracy of the model. Setting the learning rate too large or too small may cause the accuracy of the model to decrease. When the learning rate is not set properly, it may even cause the model accuracy to crash.\n",
        "- When setting different maximum learning rates, the training time of the model is similar. This may be related to our use of the learning rate scheduler."
      ],
      "metadata": {
        "id": "Zw_1F3CazTTJ"
      }
    },
    {
      "cell_type": "markdown",
      "source": [
        "**Conclusion:**\n",
        "\n",
        "I set the maximum learning rate to 0.001 and compare square L2 norm of gradients, loss and accuracy with and without batch. The results are as follows:\n",
        "\n",
        "![l2 norm](https://github.com/ZhaohuiWang-github/COMP664-deep-learning/raw/main/hw6_figure_1and2/lr0.001BN.png) ![l2 norm](https://github.com/ZhaohuiWang-github/COMP664-deep-learning/raw/main/hw6_figure_1and2/lr0.001noBN.png)\n",
        "\n",
        "![loss](https://github.com/ZhaohuiWang-github/COMP664-deep-learning/raw/main/hw6_figure_1and2/lr0.001BN_loss.png) ![loss](https://github.com/ZhaohuiWang-github/COMP664-deep-learning/raw/main/hw6_figure_1and2/lr0.001noBN_loss.png)\n",
        "\n",
        "![acc](https://github.com/ZhaohuiWang-github/COMP664-deep-learning/raw/main/hw6_figure_1and2/lr0.001BN_acc.png) ![acc](https://github.com/ZhaohuiWang-github/COMP664-deep-learning/raw/main/hw6_figure_1and2/lr0.001noBN_acc.png)\n",
        "\n",
        "We can find that:\n",
        "\n",
        "- In the first few epochs, relatively speaking, the squared L2 norm of gradients decreases more steadily when batch normalization is used. However, since I used the learning rate scheduler, the model without batch normalization also quickly became very stable in decreasing. In later epochs, the squared L2 norm of gradients of our models has a good downward trend whether batch normalization is used or not.\n",
        "\n",
        "- Theoretically, batch normalization reduces the variance of the inputs, which in turn reduces the variance of the gradients. This can help to prevent the gradients from becoming too large, which can lead to instability and slow convergence. Intuitively, batch normalization is thought to make the optimization landscape smoother. However, it is not obvious from our curves, because I used the learning rate scheduler.\n"
      ],
      "metadata": {
        "id": "GjpEIPoZDtqD"
      }
    },
    {
      "cell_type": "markdown",
      "source": [
        "# 2. Residual connections (2 points)\n",
        "\n",
        "Please make use of the model code from Homework 5 question 2 as you work on this question.\n",
        "\n",
        "If your model didn't use residual connections, add them. If it already had residual connections, remove them. How does the performance change? Please experiment with applying residual connections around different blocks, where a block is a subset of layers (for example, add a residual connection around a single convolution/nonlinearity combination, or a residual connection around two convolution/nonlinearity combinations). Note that you may need to add 1x1 convolutions in the residual path if your block changes the shape (spatial or number of channels) of the input."
      ],
      "metadata": {
        "id": "CHWqCHmSKEKU"
      }
    },
    {
      "cell_type": "markdown",
      "source": [
        "**Conclusion：**\n",
        "\n",
        "According to the requirements, I practiced 3 types of models:\n",
        "- Model 1: do not use residual connections\n",
        "- Model 2: add a residual connection around two convolution/nonlinearity combinations\n",
        "- Model 3: add a residual connection around a single convolution/nonlinearity combination\n",
        "\n",
        "The results of running these three models are as follows:\n",
        "![model_result](https://github.com/ZhaohuiWang-github/COMP664-deep-learning/raw/main/hw6_figure_1and2/model_results.png)\n",
        "\n",
        "We can find that:\n",
        "- The accuracy of the models with the residual connections is significantly better than that of the model without the residual connections.\n",
        "- With all three models iterating 20 epochs, the more residual connections are used, the higher the accuracy of the model. This is because the residual connections allow the network to learn more complex representations and can help to avoid the problem of vanishing gradients.\n",
        "- As more residual connections are added, the complexity of the model is higher and so the training time is longer.\n",
        "\n",
        "The detailed structure of these 3 models is shown below:"
      ],
      "metadata": {
        "id": "NwdxgHbTKFCj"
      }
    },
    {
      "cell_type": "code",
      "source": [
        "# Model 1\n",
        "# Don't use residual connections\n",
        "# Time cost: 9min40s\n",
        "# Accuracy: 90.99%\n",
        "\n",
        "\"\"\"\n",
        "ResNet9(\n",
        "  (conv1): Sequential(\n",
        "    (0): Conv2d(3, 64, kernel_size=(3, 3), stride=(1, 1), padding=(1, 1))\n",
        "    (1): BatchNorm2d(64, eps=1e-05, momentum=0.1, affine=True, track_running_stats=True)\n",
        "    (2): ReLU(inplace=True)\n",
        "  )\n",
        "  (conv2): Sequential(\n",
        "    (0): Conv2d(64, 128, kernel_size=(3, 3), stride=(1, 1), padding=(1, 1))\n",
        "    (1): BatchNorm2d(128, eps=1e-05, momentum=0.1, affine=True, track_running_stats=True)\n",
        "    (2): ReLU(inplace=True)\n",
        "    (3): MaxPool2d(kernel_size=2, stride=2, padding=0, dilation=1, ceil_mode=False)\n",
        "  )\n",
        "  (conv3): Sequential(\n",
        "    (0): Conv2d(128, 256, kernel_size=(3, 3), stride=(1, 1), padding=(1, 1))\n",
        "    (1): BatchNorm2d(256, eps=1e-05, momentum=0.1, affine=True, track_running_stats=True)\n",
        "    (2): ReLU(inplace=True)\n",
        "    (3): MaxPool2d(kernel_size=2, stride=2, padding=0, dilation=1, ceil_mode=False)\n",
        "  )\n",
        "  (conv4): Sequential(\n",
        "    (0): Conv2d(256, 512, kernel_size=(3, 3), stride=(1, 1), padding=(1, 1))\n",
        "    (1): BatchNorm2d(512, eps=1e-05, momentum=0.1, affine=True, track_running_stats=True)\n",
        "    (2): ReLU(inplace=True)\n",
        "    (3): MaxPool2d(kernel_size=2, stride=2, padding=0, dilation=1, ceil_mode=False)\n",
        "  )\n",
        "  (classifier): Sequential(\n",
        "    (0): MaxPool2d(kernel_size=4, stride=4, padding=0, dilation=1, ceil_mode=False)\n",
        "    (1): Flatten(start_dim=1, end_dim=-1)\n",
        "    (2): Linear(in_features=512, out_features=10, bias=True)\n",
        "  )\n",
        ")\n",
        "\"\"\""
      ],
      "metadata": {
        "colab": {
          "base_uri": "https://localhost:8080/",
          "height": 139
        },
        "id": "ncNimnJ-B_KR",
        "outputId": "8faff5aa-6cc6-42c5-9faa-88765edd333f"
      },
      "execution_count": null,
      "outputs": [
        {
          "output_type": "execute_result",
          "data": {
            "text/plain": [
              "'\\nResNet9(\\n  (conv1): Sequential(\\n    (0): Conv2d(3, 64, kernel_size=(3, 3), stride=(1, 1), padding=(1, 1))\\n    (1): BatchNorm2d(64, eps=1e-05, momentum=0.1, affine=True, track_running_stats=True)\\n    (2): ReLU(inplace=True)\\n  )\\n  (conv2): Sequential(\\n    (0): Conv2d(64, 128, kernel_size=(3, 3), stride=(1, 1), padding=(1, 1))\\n    (1): BatchNorm2d(128, eps=1e-05, momentum=0.1, affine=True, track_running_stats=True)\\n    (2): ReLU(inplace=True)\\n    (3): MaxPool2d(kernel_size=2, stride=2, padding=0, dilation=1, ceil_mode=False)\\n  )\\n  (conv3): Sequential(\\n    (0): Conv2d(128, 256, kernel_size=(3, 3), stride=(1, 1), padding=(1, 1))\\n    (1): BatchNorm2d(256, eps=1e-05, momentum=0.1, affine=True, track_running_stats=True)\\n    (2): ReLU(inplace=True)\\n    (3): MaxPool2d(kernel_size=2, stride=2, padding=0, dilation=1, ceil_mode=False)\\n  )\\n  (conv4): Sequential(\\n    (0): Conv2d(256, 512, kernel_size=(3, 3), stride=(1, 1), padding=(1, 1))\\n    (1): BatchNorm2d(512, eps=1e-05, momentum=0.1, affine=True, track_running_stats=True)\\n    (2): ReLU(inplace=True)\\n    (3): MaxPool2d(kernel_size=2, stride=2, padding=0, dilation=1, ceil_mode=False)\\n  )\\n  (classifier): Sequential(\\n    (0): MaxPool2d(kernel_size=4, stride=4, padding=0, dilation=1, ceil_mode=False)\\n    (1): Flatten(start_dim=1, end_dim=-1)\\n    (2): Linear(in_features=512, out_features=10, bias=True)\\n  )\\n)\\n'"
            ],
            "application/vnd.google.colaboratory.intrinsic+json": {
              "type": "string"
            }
          },
          "metadata": {},
          "execution_count": 1
        }
      ]
    },
    {
      "cell_type": "code",
      "source": [
        "# Model 2\n",
        "# Add a residual connection around two convolution/nonlinearity combinations\n",
        "# Time cost: 10min48s\n",
        "# Accuracy: 92.94%\n",
        "\n",
        "\"\"\"\n",
        "ResNet9(\n",
        "  (conv1): Sequential(\n",
        "    (0): Conv2d(3, 64, kernel_size=(3, 3), stride=(1, 1), padding=(1, 1))\n",
        "    (1): BatchNorm2d(64, eps=1e-05, momentum=0.1, affine=True, track_running_stats=True)\n",
        "    (2): ReLU(inplace=True)\n",
        "  )\n",
        "  (conv2): Sequential(\n",
        "    (0): Conv2d(64, 128, kernel_size=(3, 3), stride=(1, 1), padding=(1, 1))\n",
        "    (1): BatchNorm2d(128, eps=1e-05, momentum=0.1, affine=True, track_running_stats=True)\n",
        "    (2): ReLU(inplace=True)\n",
        "    (3): MaxPool2d(kernel_size=2, stride=2, padding=0, dilation=1, ceil_mode=False)\n",
        "  )\n",
        "  (res1): Sequential(\n",
        "    (0): Sequential(\n",
        "      (0): Conv2d(128, 128, kernel_size=(3, 3), stride=(1, 1), padding=(1, 1))\n",
        "      (1): BatchNorm2d(128, eps=1e-05, momentum=0.1, affine=True, track_running_stats=True)\n",
        "      (2): ReLU(inplace=True)\n",
        "    )\n",
        "    (1): Sequential(\n",
        "      (0): Conv2d(128, 128, kernel_size=(3, 3), stride=(1, 1), padding=(1, 1))\n",
        "      (1): BatchNorm2d(128, eps=1e-05, momentum=0.1, affine=True, track_running_stats=True)\n",
        "      (2): ReLU(inplace=True)\n",
        "    )\n",
        "  )\n",
        "  (conv3): Sequential(\n",
        "    (0): Conv2d(128, 256, kernel_size=(3, 3), stride=(1, 1), padding=(1, 1))\n",
        "    (1): BatchNorm2d(256, eps=1e-05, momentum=0.1, affine=True, track_running_stats=True)\n",
        "    (2): ReLU(inplace=True)\n",
        "    (3): MaxPool2d(kernel_size=2, stride=2, padding=0, dilation=1, ceil_mode=False)\n",
        "  )\n",
        "  (conv4): Sequential(\n",
        "    (0): Conv2d(256, 512, kernel_size=(3, 3), stride=(1, 1), padding=(1, 1))\n",
        "    (1): BatchNorm2d(512, eps=1e-05, momentum=0.1, affine=True, track_running_stats=True)\n",
        "    (2): ReLU(inplace=True)\n",
        "    (3): MaxPool2d(kernel_size=2, stride=2, padding=0, dilation=1, ceil_mode=False)\n",
        "  )\n",
        "  (res2): Sequential(\n",
        "    (0): Sequential(\n",
        "      (0): Conv2d(512, 512, kernel_size=(3, 3), stride=(1, 1), padding=(1, 1))\n",
        "      (1): BatchNorm2d(512, eps=1e-05, momentum=0.1, affine=True, track_running_stats=True)\n",
        "      (2): ReLU(inplace=True)\n",
        "    )\n",
        "    (1): Sequential(\n",
        "      (0): Conv2d(512, 512, kernel_size=(3, 3), stride=(1, 1), padding=(1, 1))\n",
        "      (1): BatchNorm2d(512, eps=1e-05, momentum=0.1, affine=True, track_running_stats=True)\n",
        "      (2): ReLU(inplace=True)\n",
        "    )\n",
        "  )\n",
        "  (classifier): Sequential(\n",
        "    (0): MaxPool2d(kernel_size=4, stride=4, padding=0, dilation=1, ceil_mode=False)\n",
        "    (1): Flatten(start_dim=1, end_dim=-1)\n",
        "    (2): Linear(in_features=512, out_features=10, bias=True)\n",
        "  )\n",
        ")\n",
        "\"\"\""
      ],
      "metadata": {
        "colab": {
          "base_uri": "https://localhost:8080/",
          "height": 139
        },
        "id": "cSoYcpLOtQJO",
        "outputId": "ada946f2-b286-44fa-e07a-da2752928ed2"
      },
      "execution_count": null,
      "outputs": [
        {
          "output_type": "execute_result",
          "data": {
            "text/plain": [
              "'\\nResNet9(\\n  (conv1): Sequential(\\n    (0): Conv2d(3, 64, kernel_size=(3, 3), stride=(1, 1), padding=(1, 1))\\n    (1): BatchNorm2d(64, eps=1e-05, momentum=0.1, affine=True, track_running_stats=True)\\n    (2): ReLU(inplace=True)\\n  )\\n  (conv2): Sequential(\\n    (0): Conv2d(64, 128, kernel_size=(3, 3), stride=(1, 1), padding=(1, 1))\\n    (1): BatchNorm2d(128, eps=1e-05, momentum=0.1, affine=True, track_running_stats=True)\\n    (2): ReLU(inplace=True)\\n    (3): MaxPool2d(kernel_size=2, stride=2, padding=0, dilation=1, ceil_mode=False)\\n  )\\n  (res1): Sequential(\\n    (0): Sequential(\\n      (0): Conv2d(128, 128, kernel_size=(3, 3), stride=(1, 1), padding=(1, 1))\\n      (1): BatchNorm2d(128, eps=1e-05, momentum=0.1, affine=True, track_running_stats=True)\\n      (2): ReLU(inplace=True)\\n    )\\n    (1): Sequential(\\n      (0): Conv2d(128, 128, kernel_size=(3, 3), stride=(1, 1), padding=(1, 1))\\n      (1): BatchNorm2d(128, eps=1e-05, momentum=0.1, affine=True, track_running_stats=True)\\n      (2): ReLU(inplace=True)\\n    )\\n  )\\n  (conv3): Sequential(\\n    (0): Conv2d(128, 256, kernel_size=(3, 3), stride=(1, 1), padding=(1, 1))\\n    (1): BatchNorm2d(256, eps=1e-05, momentum=0.1, affine=True, track_running_stats=True)\\n    (2): ReLU(inplace=True)\\n    (3): MaxPool2d(kernel_size=2, stride=2, padding=0, dilation=1, ceil_mode=False)\\n  )\\n  (conv4): Sequential(\\n    (0): Conv2d(256, 512, kernel_size=(3, 3), stride=(1, 1), padding=(1, 1))\\n    (1): BatchNorm2d(512, eps=1e-05, momentum=0.1, affine=True, track_running_stats=True)\\n    (2): ReLU(inplace=True)\\n    (3): MaxPool2d(kernel_size=2, stride=2, padding=0, dilation=1, ceil_mode=False)\\n  )\\n  (res2): Sequential(\\n    (0): Sequential(\\n      (0): Conv2d(512, 512, kernel_size=(3, 3), stride=(1, 1), padding=(1, 1))\\n      (1): BatchNorm2d(512, eps=1e-05, momentum=0.1, affine=True, track_running_stats=True)\\n      (2): ReLU(inplace=True)\\n    )\\n    (1): Sequential(\\n      (0): Conv2d(512, 512, kernel_size=(3, 3), stride=(1, 1), padding=(1, 1))\\n      (1): BatchNorm2d(512, eps=1e-05, momentum=0.1, affine=True, track_running_stats=True)\\n      (2): ReLU(inplace=True)\\n    )\\n  )\\n  (classifier): Sequential(\\n    (0): MaxPool2d(kernel_size=4, stride=4, padding=0, dilation=1, ceil_mode=False)\\n    (1): Flatten(start_dim=1, end_dim=-1)\\n    (2): Linear(in_features=512, out_features=10, bias=True)\\n  )\\n)\\n'"
            ],
            "application/vnd.google.colaboratory.intrinsic+json": {
              "type": "string"
            }
          },
          "metadata": {},
          "execution_count": 2
        }
      ]
    },
    {
      "cell_type": "code",
      "source": [
        "# Model 3\n",
        "# Add a residual connection around a single convolution/nonlinearity combination\n",
        "# Time cost: 13min44s\n",
        "# Accuracy: 93.54%\n",
        "\n",
        "\"\"\"\n",
        "ResNet9(\n",
        "  (conv1): Sequential(\n",
        "    (0): Conv2d(3, 64, kernel_size=(3, 3), stride=(1, 1), padding=(1, 1))\n",
        "    (1): BatchNorm2d(64, eps=1e-05, momentum=0.1, affine=True, track_running_stats=True)\n",
        "    (2): ReLU(inplace=True)\n",
        "  )\n",
        "  (res1): Sequential(\n",
        "    (0): Sequential(\n",
        "      (0): Conv2d(64, 64, kernel_size=(3, 3), stride=(1, 1), padding=(1, 1))\n",
        "      (1): BatchNorm2d(64, eps=1e-05, momentum=0.1, affine=True, track_running_stats=True)\n",
        "      (2): ReLU(inplace=True)\n",
        "    )\n",
        "    (1): Sequential(\n",
        "      (0): Conv2d(64, 64, kernel_size=(3, 3), stride=(1, 1), padding=(1, 1))\n",
        "      (1): BatchNorm2d(64, eps=1e-05, momentum=0.1, affine=True, track_running_stats=True)\n",
        "      (2): ReLU(inplace=True)\n",
        "    )\n",
        "  )\n",
        "  (conv2): Sequential(\n",
        "    (0): Conv2d(64, 128, kernel_size=(3, 3), stride=(1, 1), padding=(1, 1))\n",
        "    (1): BatchNorm2d(128, eps=1e-05, momentum=0.1, affine=True, track_running_stats=True)\n",
        "    (2): ReLU(inplace=True)\n",
        "    (3): MaxPool2d(kernel_size=2, stride=2, padding=0, dilation=1, ceil_mode=False)\n",
        "  )\n",
        "  (res2): Sequential(\n",
        "    (0): Sequential(\n",
        "      (0): Conv2d(128, 128, kernel_size=(3, 3), stride=(1, 1), padding=(1, 1))\n",
        "      (1): BatchNorm2d(128, eps=1e-05, momentum=0.1, affine=True, track_running_stats=True)\n",
        "      (2): ReLU(inplace=True)\n",
        "    )\n",
        "    (1): Sequential(\n",
        "      (0): Conv2d(128, 128, kernel_size=(3, 3), stride=(1, 1), padding=(1, 1))\n",
        "      (1): BatchNorm2d(128, eps=1e-05, momentum=0.1, affine=True, track_running_stats=True)\n",
        "      (2): ReLU(inplace=True)\n",
        "    )\n",
        "  )\n",
        "  (conv3): Sequential(\n",
        "    (0): Conv2d(128, 256, kernel_size=(3, 3), stride=(1, 1), padding=(1, 1))\n",
        "    (1): BatchNorm2d(256, eps=1e-05, momentum=0.1, affine=True, track_running_stats=True)\n",
        "    (2): ReLU(inplace=True)\n",
        "    (3): MaxPool2d(kernel_size=2, stride=2, padding=0, dilation=1, ceil_mode=False)\n",
        "  )\n",
        "  (res3): Sequential(\n",
        "    (0): Sequential(\n",
        "      (0): Conv2d(256, 256, kernel_size=(3, 3), stride=(1, 1), padding=(1, 1))\n",
        "      (1): BatchNorm2d(256, eps=1e-05, momentum=0.1, affine=True, track_running_stats=True)\n",
        "      (2): ReLU(inplace=True)\n",
        "    )\n",
        "    (1): Sequential(\n",
        "      (0): Conv2d(256, 256, kernel_size=(3, 3), stride=(1, 1), padding=(1, 1))\n",
        "      (1): BatchNorm2d(256, eps=1e-05, momentum=0.1, affine=True, track_running_stats=True)\n",
        "      (2): ReLU(inplace=True)\n",
        "    )\n",
        "  )\n",
        "  (conv4): Sequential(\n",
        "    (0): Conv2d(256, 512, kernel_size=(3, 3), stride=(1, 1), padding=(1, 1))\n",
        "    (1): BatchNorm2d(512, eps=1e-05, momentum=0.1, affine=True, track_running_stats=True)\n",
        "    (2): ReLU(inplace=True)\n",
        "    (3): MaxPool2d(kernel_size=2, stride=2, padding=0, dilation=1, ceil_mode=False)\n",
        "  )\n",
        "  (res4): Sequential(\n",
        "    (0): Sequential(\n",
        "      (0): Conv2d(512, 512, kernel_size=(3, 3), stride=(1, 1), padding=(1, 1))\n",
        "      (1): BatchNorm2d(512, eps=1e-05, momentum=0.1, affine=True, track_running_stats=True)\n",
        "      (2): ReLU(inplace=True)\n",
        "    )\n",
        "    (1): Sequential(\n",
        "      (0): Conv2d(512, 512, kernel_size=(3, 3), stride=(1, 1), padding=(1, 1))\n",
        "      (1): BatchNorm2d(512, eps=1e-05, momentum=0.1, affine=True, track_running_stats=True)\n",
        "      (2): ReLU(inplace=True)\n",
        "    )\n",
        "  )\n",
        "  (classifier): Sequential(\n",
        "    (0): MaxPool2d(kernel_size=4, stride=4, padding=0, dilation=1, ceil_mode=False)\n",
        "    (1): Flatten(start_dim=1, end_dim=-1)\n",
        "    (2): Linear(in_features=512, out_features=10, bias=True)\n",
        "  )\n",
        ")\n",
        "\"\"\""
      ],
      "metadata": {
        "colab": {
          "base_uri": "https://localhost:8080/",
          "height": 139
        },
        "id": "Y-Y_BTZijEip",
        "outputId": "78026d6e-4374-4bc4-a6f8-2646b6b18395"
      },
      "execution_count": null,
      "outputs": [
        {
          "output_type": "execute_result",
          "data": {
            "text/plain": [
              "'\\nResNet9(\\n  (conv1): Sequential(\\n    (0): Conv2d(3, 64, kernel_size=(3, 3), stride=(1, 1), padding=(1, 1))\\n    (1): BatchNorm2d(64, eps=1e-05, momentum=0.1, affine=True, track_running_stats=True)\\n    (2): ReLU(inplace=True)\\n  )\\n  (res1): Sequential(\\n    (0): Sequential(\\n      (0): Conv2d(64, 64, kernel_size=(3, 3), stride=(1, 1), padding=(1, 1))\\n      (1): BatchNorm2d(64, eps=1e-05, momentum=0.1, affine=True, track_running_stats=True)\\n      (2): ReLU(inplace=True)\\n    )\\n    (1): Sequential(\\n      (0): Conv2d(64, 64, kernel_size=(3, 3), stride=(1, 1), padding=(1, 1))\\n      (1): BatchNorm2d(64, eps=1e-05, momentum=0.1, affine=True, track_running_stats=True)\\n      (2): ReLU(inplace=True)\\n    )\\n  )\\n  (conv2): Sequential(\\n    (0): Conv2d(64, 128, kernel_size=(3, 3), stride=(1, 1), padding=(1, 1))\\n    (1): BatchNorm2d(128, eps=1e-05, momentum=0.1, affine=True, track_running_stats=True)\\n    (2): ReLU(inplace=True)\\n    (3): MaxPool2d(kernel_size=2, stride=2, padding=0, dilation=1, ceil_mode=False)\\n  )\\n  (res2): Sequential(\\n    (0): Sequential(\\n      (0): Conv2d(128, 128, kernel_size=(3, 3), stride=(1, 1), padding=(1, 1))\\n      (1): BatchNorm2d(128, eps=1e-05, momentum=0.1, affine=True, track_running_stats=True)\\n      (2): ReLU(inplace=True)\\n    )\\n    (1): Sequential(\\n      (0): Conv2d(128, 128, kernel_size=(3, 3), stride=(1, 1), padding=(1, 1))\\n      (1): BatchNorm2d(128, eps=1e-05, momentum=0.1, affine=True, track_running_stats=True)\\n      (2): ReLU(inplace=True)\\n    )\\n  )\\n  (conv3): Sequential(\\n    (0): Conv2d(128, 256, kernel_size=(3, 3), stride=(1, 1), padding=(1, 1))\\n    (1): BatchNorm2d(256, eps=1e-05, momentum=0.1, affine=True, track_running_stats=True)\\n    (2): ReLU(inplace=True)\\n    (3): MaxPool2d(kernel_size=2, stride=2, padding=0, dilation=1, ceil_mode=False)\\n  )\\n  (res3): Sequential(\\n    (0): Sequential(\\n      (0): Conv2d(256, 256, kernel_size=(3, 3), stride=(1, 1), padding=(1, 1))\\n      (1): BatchNorm2d(256, eps=1e-05, momentum=0.1, affine=True, track_running_stats=True)\\n      (2): ReLU(inplace=True)\\n    )\\n    (1): Sequential(\\n      (0): Conv2d(256, 256, kernel_size=(3, 3), stride=(1, 1), padding=(1, 1))\\n      (1): BatchNorm2d(256, eps=1e-05, momentum=0.1, affine=True, track_running_stats=True)\\n      (2): ReLU(inplace=True)\\n    )\\n  )\\n  (conv4): Sequential(\\n    (0): Conv2d(256, 512, kernel_size=(3, 3), stride=(1, 1), padding=(1, 1))\\n    (1): BatchNorm2d(512, eps=1e-05, momentum=0.1, affine=True, track_running_stats=True)\\n    (2): ReLU(inplace=True)\\n    (3): MaxPool2d(kernel_size=2, stride=2, padding=0, dilation=1, ceil_mode=False)\\n  )\\n  (res4): Sequential(\\n    (0): Sequential(\\n      (0): Conv2d(512, 512, kernel_size=(3, 3), stride=(1, 1), padding=(1, 1))\\n      (1): BatchNorm2d(512, eps=1e-05, momentum=0.1, affine=True, track_running_stats=True)\\n      (2): ReLU(inplace=True)\\n    )\\n    (1): Sequential(\\n      (0): Conv2d(512, 512, kernel_size=(3, 3), stride=(1, 1), padding=(1, 1))\\n      (1): BatchNorm2d(512, eps=1e-05, momentum=0.1, affine=True, track_running_stats=True)\\n      (2): ReLU(inplace=True)\\n    )\\n  )\\n  (classifier): Sequential(\\n    (0): MaxPool2d(kernel_size=4, stride=4, padding=0, dilation=1, ceil_mode=False)\\n    (1): Flatten(start_dim=1, end_dim=-1)\\n    (2): Linear(in_features=512, out_features=10, bias=True)\\n  )\\n)\\n'"
            ],
            "application/vnd.google.colaboratory.intrinsic+json": {
              "type": "string"
            }
          },
          "metadata": {},
          "execution_count": 3
        }
      ]
    },
    {
      "cell_type": "markdown",
      "source": [
        "## Code Part"
      ],
      "metadata": {
        "id": "u1Ot6ApW9-mN"
      }
    },
    {
      "cell_type": "code",
      "source": [
        "import os\n",
        "import torch\n",
        "import torchvision\n",
        "import torch.nn as nn\n",
        "import numpy as np\n",
        "import torch.nn.functional as F\n",
        "from torch.utils.data import DataLoader\n",
        "import torchvision.transforms as tt\n",
        "import matplotlib.pyplot as plt"
      ],
      "metadata": {
        "id": "GlRAlgdmzSCa"
      },
      "execution_count": null,
      "outputs": []
    },
    {
      "cell_type": "markdown",
      "source": [
        "### Perpare Dataset"
      ],
      "metadata": {
        "id": "G-2eHw552k_D"
      }
    },
    {
      "cell_type": "code",
      "source": [
        "# Data transforms (normalization & data augmentation)\n",
        "stats = ((0.4914, 0.4822, 0.4465), (0.2023, 0.1994, 0.2010))\n",
        "train_tfms = tt.Compose([tt.RandomCrop(32, padding=4, padding_mode='reflect'), \n",
        "                         tt.RandomHorizontalFlip(), \n",
        "                         tt.ToTensor(), \n",
        "                         tt.Normalize(*stats,inplace=True)])\n",
        "valid_tfms = tt.Compose([tt.ToTensor(), tt.Normalize(*stats)])"
      ],
      "metadata": {
        "id": "c9Se2Sce2gQ1"
      },
      "execution_count": null,
      "outputs": []
    },
    {
      "cell_type": "code",
      "source": [
        "# CIFAR-10 dataset\n",
        "train_dataset = torchvision.datasets.CIFAR10(root='../../data/',\n",
        "                                             train=True, \n",
        "                                             transform=train_tfms,\n",
        "                                             download=True)\n",
        "\n",
        "valid_dataset = torchvision.datasets.CIFAR10(root='../../data/',\n",
        "                                            train=False, \n",
        "                                            transform=valid_tfms)"
      ],
      "metadata": {
        "colab": {
          "base_uri": "https://localhost:8080/"
        },
        "id": "5o5GmN1b2qb8",
        "outputId": "19b0c3cc-22cf-4aa4-9b0f-2d230417df23"
      },
      "execution_count": null,
      "outputs": [
        {
          "output_type": "stream",
          "name": "stdout",
          "text": [
            "Files already downloaded and verified\n"
          ]
        }
      ]
    },
    {
      "cell_type": "code",
      "source": [
        "batch_size = 512\n",
        "\n",
        "# PyTorch data loaders\n",
        "train_dl = DataLoader(train_dataset, batch_size, shuffle=True, num_workers=3, pin_memory=True)\n",
        "valid_dl = DataLoader(valid_dataset, batch_size*2, num_workers=3, pin_memory=True)"
      ],
      "metadata": {
        "id": "Wx0P7OWV2tSo",
        "colab": {
          "base_uri": "https://localhost:8080/"
        },
        "outputId": "3866e631-c7f8-4e59-baa6-748ffa821351"
      },
      "execution_count": null,
      "outputs": [
        {
          "output_type": "stream",
          "name": "stderr",
          "text": [
            "/usr/local/lib/python3.8/dist-packages/torch/utils/data/dataloader.py:554: UserWarning: This DataLoader will create 3 worker processes in total. Our suggested max number of worker in current system is 2, which is smaller than what this DataLoader is going to create. Please be aware that excessive worker creation might get DataLoader running slow or even freeze, lower the worker number to avoid potential slowness/freeze if necessary.\n",
            "  warnings.warn(_create_warning_msg(\n"
          ]
        }
      ]
    },
    {
      "cell_type": "markdown",
      "source": [
        "### Use a GPU"
      ],
      "metadata": {
        "id": "qcHvxu-m2u1M"
      }
    },
    {
      "cell_type": "code",
      "source": [
        "def get_default_device():\n",
        "    \"\"\"Pick GPU if available, else CPU\"\"\"\n",
        "    if torch.cuda.is_available():\n",
        "        return torch.device('cuda')\n",
        "    else:\n",
        "        return torch.device('cpu')"
      ],
      "metadata": {
        "id": "f8AhacGj2yrZ"
      },
      "execution_count": null,
      "outputs": []
    },
    {
      "cell_type": "code",
      "source": [
        "def to_device(data, device):\n",
        "    \"\"\"Move tensor(s) to chosen device\"\"\"\n",
        "    if isinstance(data, (list,tuple)):\n",
        "        return [to_device(x, device) for x in data]\n",
        "    return data.to(device, non_blocking=True)"
      ],
      "metadata": {
        "id": "njQDW0J220bc"
      },
      "execution_count": null,
      "outputs": []
    },
    {
      "cell_type": "code",
      "source": [
        "class DeviceDataLoader():\n",
        "    \"\"\"Wrap a dataloader to move data to a device\"\"\"\n",
        "    def __init__(self, dl, device):\n",
        "        self.dl = dl\n",
        "        self.device = device\n",
        "        \n",
        "    def __iter__(self):\n",
        "        \"\"\"Yield a batch of data after moving it to device\"\"\"\n",
        "        for b in self.dl: \n",
        "            yield to_device(b, self.device)\n",
        "\n",
        "    def __len__(self):\n",
        "        \"\"\"Number of batches\"\"\"\n",
        "        return len(self.dl)"
      ],
      "metadata": {
        "id": "juvmyC3t22kb"
      },
      "execution_count": null,
      "outputs": []
    },
    {
      "cell_type": "code",
      "source": [
        "device = get_default_device()\n",
        "device"
      ],
      "metadata": {
        "colab": {
          "base_uri": "https://localhost:8080/"
        },
        "id": "jcd4qNM024M9",
        "outputId": "655a15ff-fdbd-4a56-a7a0-c6f4abb0ac2d"
      },
      "execution_count": null,
      "outputs": [
        {
          "output_type": "execute_result",
          "data": {
            "text/plain": [
              "device(type='cuda')"
            ]
          },
          "metadata": {},
          "execution_count": 11
        }
      ]
    },
    {
      "cell_type": "code",
      "source": [
        "train_dl = DeviceDataLoader(train_dl, device)\n",
        "valid_dl = DeviceDataLoader(valid_dl, device)"
      ],
      "metadata": {
        "id": "gtQkoXFN26C3"
      },
      "execution_count": null,
      "outputs": []
    },
    {
      "cell_type": "markdown",
      "source": [
        "### Resnet"
      ],
      "metadata": {
        "id": "YEQab20U27f5"
      }
    },
    {
      "cell_type": "code",
      "source": [
        "def accuracy(outputs, labels):\n",
        "    \"\"\"Calculate accuracy\"\"\"\n",
        "    _, preds = torch.max(outputs, dim=1)\n",
        "    return torch.tensor(torch.sum(preds == labels).item() / len(preds))"
      ],
      "metadata": {
        "id": "x1EBPpNp295i"
      },
      "execution_count": null,
      "outputs": []
    },
    {
      "cell_type": "code",
      "source": [
        "class ImageClassificationBase(nn.Module):\n",
        "    def training_step(self, batch):\n",
        "        images, labels = batch \n",
        "        out = self(images)                  # Generate predictions\n",
        "        loss = F.cross_entropy(out, labels) # Calculate loss\n",
        "        return loss\n",
        "    \n",
        "    def validation_step(self, batch):\n",
        "        images, labels = batch \n",
        "        out = self(images)                    # Generate predictions\n",
        "        loss = F.cross_entropy(out, labels)   # Calculate loss\n",
        "        acc = accuracy(out, labels)           # Calculate accuracy\n",
        "        return {'val_loss': loss.detach(), 'val_acc': acc}\n",
        "        \n",
        "    def validation_epoch_end(self, outputs):\n",
        "        batch_losses = [x['val_loss'] for x in outputs]\n",
        "        epoch_loss = torch.stack(batch_losses).mean()   # Combine losses\n",
        "        batch_accs = [x['val_acc'] for x in outputs]\n",
        "        epoch_acc = torch.stack(batch_accs).mean()      # Combine accuracies\n",
        "        return {'val_loss': epoch_loss.item(), 'val_acc': epoch_acc.item()}\n",
        "    \n",
        "    def epoch_end(self, epoch, result):\n",
        "        print(\"Epoch [{}], last_lr: {:.5f}, train_loss: {:.4f}, val_loss: {:.4f}, val_acc: {:.4f}\".format(\n",
        "            epoch, result['lrs'][-1], result['train_loss'], result['val_loss'], result['val_acc']))"
      ],
      "metadata": {
        "id": "UWAsG6fQ3AS1"
      },
      "execution_count": null,
      "outputs": []
    },
    {
      "cell_type": "code",
      "source": [
        "def conv_block(in_channels, out_channels, pool=False):\n",
        "    layers = [nn.Conv2d(in_channels, out_channels, kernel_size=3, padding=1), \n",
        "              nn.BatchNorm2d(out_channels),  # batch normalization\n",
        "              nn.ReLU(inplace=True)]\n",
        "    if pool: layers.append(nn.MaxPool2d(2))\n",
        "    return nn.Sequential(*layers)"
      ],
      "metadata": {
        "id": "T3ZDpsgy3C7d"
      },
      "execution_count": null,
      "outputs": []
    },
    {
      "cell_type": "code",
      "source": [
        "# ResNet9\n",
        "# Add a residual connection around two convolution/nonlinearity combinations\n",
        "class ResNet9(ImageClassificationBase):\n",
        "    def __init__(self, in_channels, num_classes):\n",
        "        super().__init__()\n",
        "        \n",
        "        self.conv1 = conv_block(in_channels, 64)\n",
        "        self.conv2 = conv_block(64, 128, pool=True)\n",
        "        self.res1 = nn.Sequential(conv_block(128, 128), conv_block(128, 128))\n",
        "        \n",
        "        self.conv3 = conv_block(128, 256, pool=True)\n",
        "        self.conv4 = conv_block(256, 512, pool=True)\n",
        "        self.res2 = nn.Sequential(conv_block(512, 512), conv_block(512, 512))\n",
        "        \n",
        "        self.classifier = nn.Sequential(nn.MaxPool2d(4), \n",
        "                                        nn.Flatten(), \n",
        "                                        nn.Linear(512, num_classes))\n",
        "        \n",
        "    def forward(self, xb):\n",
        "        out = self.conv1(xb)\n",
        "        out = self.conv2(out)\n",
        "        out = self.res1(out) + out\n",
        "        out = self.conv3(out)\n",
        "        out = self.conv4(out)\n",
        "        out = self.res2(out) + out\n",
        "        out = self.classifier(out)\n",
        "        return out\n",
        "\n",
        "model = to_device(ResNet9(3, 10), device)\n",
        "model"
      ],
      "metadata": {
        "id": "mUZGAG49LsZ7",
        "colab": {
          "base_uri": "https://localhost:8080/"
        },
        "outputId": "3304af55-998d-4151-93b9-80be6987d370"
      },
      "execution_count": null,
      "outputs": [
        {
          "output_type": "execute_result",
          "data": {
            "text/plain": [
              "ResNet9(\n",
              "  (conv1): Sequential(\n",
              "    (0): Conv2d(3, 64, kernel_size=(3, 3), stride=(1, 1), padding=(1, 1))\n",
              "    (1): BatchNorm2d(64, eps=1e-05, momentum=0.1, affine=True, track_running_stats=True)\n",
              "    (2): ReLU(inplace=True)\n",
              "  )\n",
              "  (conv2): Sequential(\n",
              "    (0): Conv2d(64, 128, kernel_size=(3, 3), stride=(1, 1), padding=(1, 1))\n",
              "    (1): BatchNorm2d(128, eps=1e-05, momentum=0.1, affine=True, track_running_stats=True)\n",
              "    (2): ReLU(inplace=True)\n",
              "    (3): MaxPool2d(kernel_size=2, stride=2, padding=0, dilation=1, ceil_mode=False)\n",
              "  )\n",
              "  (res1): Sequential(\n",
              "    (0): Sequential(\n",
              "      (0): Conv2d(128, 128, kernel_size=(3, 3), stride=(1, 1), padding=(1, 1))\n",
              "      (1): BatchNorm2d(128, eps=1e-05, momentum=0.1, affine=True, track_running_stats=True)\n",
              "      (2): ReLU(inplace=True)\n",
              "    )\n",
              "    (1): Sequential(\n",
              "      (0): Conv2d(128, 128, kernel_size=(3, 3), stride=(1, 1), padding=(1, 1))\n",
              "      (1): BatchNorm2d(128, eps=1e-05, momentum=0.1, affine=True, track_running_stats=True)\n",
              "      (2): ReLU(inplace=True)\n",
              "    )\n",
              "  )\n",
              "  (conv3): Sequential(\n",
              "    (0): Conv2d(128, 256, kernel_size=(3, 3), stride=(1, 1), padding=(1, 1))\n",
              "    (1): BatchNorm2d(256, eps=1e-05, momentum=0.1, affine=True, track_running_stats=True)\n",
              "    (2): ReLU(inplace=True)\n",
              "    (3): MaxPool2d(kernel_size=2, stride=2, padding=0, dilation=1, ceil_mode=False)\n",
              "  )\n",
              "  (conv4): Sequential(\n",
              "    (0): Conv2d(256, 512, kernel_size=(3, 3), stride=(1, 1), padding=(1, 1))\n",
              "    (1): BatchNorm2d(512, eps=1e-05, momentum=0.1, affine=True, track_running_stats=True)\n",
              "    (2): ReLU(inplace=True)\n",
              "    (3): MaxPool2d(kernel_size=2, stride=2, padding=0, dilation=1, ceil_mode=False)\n",
              "  )\n",
              "  (res2): Sequential(\n",
              "    (0): Sequential(\n",
              "      (0): Conv2d(512, 512, kernel_size=(3, 3), stride=(1, 1), padding=(1, 1))\n",
              "      (1): BatchNorm2d(512, eps=1e-05, momentum=0.1, affine=True, track_running_stats=True)\n",
              "      (2): ReLU(inplace=True)\n",
              "    )\n",
              "    (1): Sequential(\n",
              "      (0): Conv2d(512, 512, kernel_size=(3, 3), stride=(1, 1), padding=(1, 1))\n",
              "      (1): BatchNorm2d(512, eps=1e-05, momentum=0.1, affine=True, track_running_stats=True)\n",
              "      (2): ReLU(inplace=True)\n",
              "    )\n",
              "  )\n",
              "  (classifier): Sequential(\n",
              "    (0): MaxPool2d(kernel_size=4, stride=4, padding=0, dilation=1, ceil_mode=False)\n",
              "    (1): Flatten(start_dim=1, end_dim=-1)\n",
              "    (2): Linear(in_features=512, out_features=10, bias=True)\n",
              "  )\n",
              ")"
            ]
          },
          "metadata": {},
          "execution_count": 16
        }
      ]
    },
    {
      "cell_type": "code",
      "source": [
        "# # Don't use residual connections\n",
        "\n",
        "# class ResNet9(ImageClassificationBase):\n",
        "#     def __init__(self, in_channels, num_classes):\n",
        "#         super().__init__()\n",
        "        \n",
        "#         self.conv1 = conv_block(in_channels, 64)\n",
        "#         self.conv2 = conv_block(64, 128, pool=True)\n",
        "#         # self.res1 = nn.Sequential(conv_block(128, 128), conv_block(128, 128))\n",
        "        \n",
        "#         self.conv3 = conv_block(128, 256, pool=True)\n",
        "#         self.conv4 = conv_block(256, 512, pool=True)\n",
        "#         # self.res2 = nn.Sequential(conv_block(512, 512), conv_block(512, 512))\n",
        "        \n",
        "#         self.classifier = nn.Sequential(nn.MaxPool2d(4), \n",
        "#                                         nn.Flatten(), \n",
        "#                                         nn.Linear(512, num_classes))\n",
        "        \n",
        "#     def forward(self, xb):\n",
        "#         out = self.conv1(xb)\n",
        "#         out = self.conv2(out)\n",
        "#         # out = self.res1(out) + out\n",
        "#         out = self.conv3(out)\n",
        "#         out = self.conv4(out)\n",
        "#         # out = self.res2(out) + out\n",
        "#         out = self.classifier(out)\n",
        "#         return out\n",
        "\n",
        "# model = to_device(ResNet9(3, 10), device)\n",
        "# model"
      ],
      "metadata": {
        "id": "g5K47yP13FqT"
      },
      "execution_count": null,
      "outputs": []
    },
    {
      "cell_type": "code",
      "source": [
        "# # Add a residual connection around a single convolution/nonlinearity combination\n",
        "\n",
        "# class ResNet9(ImageClassificationBase):\n",
        "#     def __init__(self, in_channels, num_classes):\n",
        "#         super().__init__()\n",
        "        \n",
        "#         self.conv1 = conv_block(in_channels, 64)\n",
        "#         self.res1 = nn.Sequential(conv_block(64, 64), conv_block(64, 64))\n",
        "#         self.conv2 = conv_block(64, 128, pool=True)\n",
        "#         self.res2 = nn.Sequential(conv_block(128, 128), conv_block(128, 128))\n",
        "        \n",
        "#         self.conv3 = conv_block(128, 256, pool=True)\n",
        "#         self.res3 = nn.Sequential(conv_block(256, 256), conv_block(256, 256))\n",
        "#         self.conv4 = conv_block(256, 512, pool=True)\n",
        "#         self.res4 = nn.Sequential(conv_block(512, 512), conv_block(512, 512))\n",
        "        \n",
        "#         self.classifier = nn.Sequential(nn.MaxPool2d(4), \n",
        "#                                         nn.Flatten(), \n",
        "#                                         nn.Linear(512, num_classes))\n",
        "        \n",
        "#     def forward(self, xb):\n",
        "#         out = self.conv1(xb)\n",
        "#         out = self.res1(out) + out\n",
        "#         out = self.conv2(out)\n",
        "#         out = self.res2(out) + out\n",
        "#         out = self.conv3(out)\n",
        "#         out = self.res3(out) + out\n",
        "#         out = self.conv4(out)\n",
        "#         out = self.res4(out) + out\n",
        "#         out = self.classifier(out)\n",
        "#         return out\n",
        "\n",
        "# model = to_device(ResNet9(3, 10), device)\n",
        "# model"
      ],
      "metadata": {
        "id": "vTY5-Retei4f"
      },
      "execution_count": null,
      "outputs": []
    },
    {
      "cell_type": "markdown",
      "source": [
        "### Train the model"
      ],
      "metadata": {
        "id": "KuUGJxsA3M2g"
      }
    },
    {
      "cell_type": "code",
      "source": [
        "@torch.no_grad()\n",
        "def evaluate(model, val_loader):\n",
        "    \"\"\"evaluation\"\"\"\n",
        "    model.eval()\n",
        "    outputs = [model.validation_step(batch) for batch in val_loader]\n",
        "    return model.validation_epoch_end(outputs)\n",
        "\n",
        "\n",
        "def get_lr(optimizer):\n",
        "    \"\"\"Learning rate scheduling\"\"\"\n",
        "    for param_group in optimizer.param_groups:\n",
        "        return param_group['lr']"
      ],
      "metadata": {
        "id": "BA6MjrGw3Otk"
      },
      "execution_count": null,
      "outputs": []
    },
    {
      "cell_type": "code",
      "source": [
        "def l2_norm_func(model):\n",
        "    total_norm = 0\n",
        "    parameters = [p for p in model.parameters() if p.grad is not None and p.requires_grad]\n",
        "    for p in parameters:\n",
        "        param_norm = p.grad.detach().data.norm(2)\n",
        "        total_norm += param_norm.item() ** 2\n",
        "    \n",
        "    # total_norm = total_norm ** 0.5\n",
        "    return total_norm"
      ],
      "metadata": {
        "id": "q15DbUns_Mgn"
      },
      "execution_count": null,
      "outputs": []
    },
    {
      "cell_type": "code",
      "source": [
        "def fit_one_cycle(epochs, max_lr, model, train_loader, val_loader, \n",
        "                  weight_decay=0, grad_clip=None, opt_func=torch.optim.SGD):\n",
        "    \"\"\"incorporate learning rate scheduling, weight decay, gradient clipping\"\"\"\n",
        "    torch.cuda.empty_cache()\n",
        "    history = []\n",
        "    \n",
        "    # Set up cutom optimizer with weight decay\n",
        "    optimizer = opt_func(model.parameters(), max_lr, weight_decay=weight_decay)\n",
        "    # Set up one-cycle learning rate scheduler\n",
        "    sched = torch.optim.lr_scheduler.OneCycleLR(optimizer, max_lr, epochs=epochs, \n",
        "                                                steps_per_epoch=len(train_loader))\n",
        "    \n",
        "    l2_norm_results = []\n",
        "    \n",
        "    for epoch in range(epochs):\n",
        "        # Training Phase \n",
        "        model.train()\n",
        "        train_losses = []\n",
        "        lrs = []\n",
        "\n",
        "        l2_norm_temp = 0\n",
        "\n",
        "        for batch in train_loader:\n",
        "            loss = model.training_step(batch)\n",
        "            train_losses.append(loss)\n",
        "            loss.backward()\n",
        "         \n",
        "            # Compute the squared L2 norm of gradients with respect to parameters\n",
        "            l2_norm_temp += l2_norm_func(model)\n",
        "\n",
        "            # Gradient clipping\n",
        "            if grad_clip: \n",
        "                nn.utils.clip_grad_value_(model.parameters(), grad_clip)\n",
        "            \n",
        "            optimizer.step()\n",
        "            optimizer.zero_grad()\n",
        "            \n",
        "            # Record & update learning rate\n",
        "            lrs.append(get_lr(optimizer))\n",
        "            sched.step()\n",
        "\n",
        "        # Validation phase\n",
        "        result = evaluate(model, val_loader)\n",
        "        result['train_loss'] = torch.stack(train_losses).mean().item()\n",
        "        result['lrs'] = lrs\n",
        "        model.epoch_end(epoch, result)\n",
        "        history.append(result)\n",
        "\n",
        "        # Compute the squared L2 norm of gradients with respect to parameters\n",
        "        # Use the average of all batches\n",
        "        l2_norm_results.append(l2_norm_temp / len(train_loader))\n",
        "        print(l2_norm_temp / len(train_loader))\n",
        "        # Use the sum of all batches\n",
        "        # l2_norm_results.append(l2_norm_temp)\n",
        "        # print(l2_norm_temp)\n",
        "\n",
        "    return history, l2_norm_results"
      ],
      "metadata": {
        "id": "8ZDedlvt3RDO"
      },
      "execution_count": null,
      "outputs": []
    },
    {
      "cell_type": "code",
      "source": [
        "history = [evaluate(model, valid_dl)]\n",
        "history"
      ],
      "metadata": {
        "colab": {
          "base_uri": "https://localhost:8080/"
        },
        "id": "qpcEUsFh3ja4",
        "outputId": "9a43e4a9-1dce-4ca8-ce2b-fe09621a4917"
      },
      "execution_count": null,
      "outputs": [
        {
          "output_type": "execute_result",
          "data": {
            "text/plain": [
              "[{'val_loss': 2.3043532371520996, 'val_acc': 0.10010762512683868}]"
            ]
          },
          "metadata": {},
          "execution_count": 24
        }
      ]
    },
    {
      "cell_type": "code",
      "source": [
        "epochs = 20 \n",
        "max_lr = 0.01  # 0.01, 0.1, 0.001\n",
        "grad_clip = 0.1\n",
        "weight_decay = 1e-4\n",
        "opt_func = torch.optim.Adam"
      ],
      "metadata": {
        "id": "IWIt56Gz3j_k"
      },
      "execution_count": null,
      "outputs": []
    },
    {
      "cell_type": "code",
      "source": [
        "%%time\n",
        "history += fit_one_cycle(epochs, max_lr, model, train_dl, valid_dl, \n",
        "                             grad_clip=grad_clip, \n",
        "                             weight_decay=weight_decay, \n",
        "                             opt_func=opt_func)"
      ],
      "metadata": {
        "colab": {
          "base_uri": "https://localhost:8080/"
        },
        "id": "w1EwhKcv3lxW",
        "outputId": "e1f95e22-b552-4f3c-8ba4-9173c0ad91af"
      },
      "execution_count": null,
      "outputs": [
        {
          "output_type": "stream",
          "name": "stdout",
          "text": [
            "Epoch [0], last_lr: 0.00103, train_loss: 1.3699, val_loss: 1.0224, val_acc: 0.6443\n",
            "59.066677172483715\n",
            "Epoch [1], last_lr: 0.00279, train_loss: 0.9015, val_loss: 0.9454, val_acc: 0.6644\n",
            "34.478850488904534\n",
            "Epoch [2], last_lr: 0.00519, train_loss: 0.7149, val_loss: 0.9094, val_acc: 0.7008\n",
            "31.04663946621764\n",
            "Epoch [3], last_lr: 0.00759, train_loss: 0.6957, val_loss: 0.8478, val_acc: 0.7273\n",
            "40.98532097740702\n",
            "Epoch [4], last_lr: 0.00935, train_loss: 0.6348, val_loss: 0.9775, val_acc: 0.7009\n",
            "27.113669427848613\n",
            "Epoch [5], last_lr: 0.01000, train_loss: 0.5813, val_loss: 0.8809, val_acc: 0.7311\n",
            "19.539626210216447\n",
            "Epoch [6], last_lr: 0.00987, train_loss: 0.4755, val_loss: 0.8211, val_acc: 0.7619\n",
            "9.511037414631907\n",
            "Epoch [7], last_lr: 0.00950, train_loss: 0.4161, val_loss: 0.6710, val_acc: 0.7864\n",
            "5.685651705059139\n",
            "Epoch [8], last_lr: 0.00891, train_loss: 0.3720, val_loss: 0.6424, val_acc: 0.7965\n",
            "4.370795503771563\n",
            "Epoch [9], last_lr: 0.00812, train_loss: 0.3541, val_loss: 0.4592, val_acc: 0.8482\n",
            "3.6731962275323613\n",
            "Epoch [10], last_lr: 0.00717, train_loss: 0.3215, val_loss: 0.4809, val_acc: 0.8405\n",
            "2.908404124410629\n",
            "Epoch [11], last_lr: 0.00611, train_loss: 0.2773, val_loss: 0.3925, val_acc: 0.8701\n",
            "1.6810460793513113\n",
            "Epoch [12], last_lr: 0.00500, train_loss: 0.2378, val_loss: 0.4394, val_acc: 0.8587\n",
            "1.311901869315563\n",
            "Epoch [13], last_lr: 0.00389, train_loss: 0.2055, val_loss: 0.3220, val_acc: 0.8966\n",
            "1.2610975721302038\n",
            "Epoch [14], last_lr: 0.00283, train_loss: 0.1663, val_loss: 0.3064, val_acc: 0.8996\n",
            "0.9784372903034215\n",
            "Epoch [15], last_lr: 0.00188, train_loss: 0.1247, val_loss: 0.2647, val_acc: 0.9131\n",
            "0.5366609006117807\n",
            "Epoch [16], last_lr: 0.00109, train_loss: 0.0910, val_loss: 0.2583, val_acc: 0.9191\n",
            "0.43200591258396553\n",
            "Epoch [17], last_lr: 0.00050, train_loss: 0.0667, val_loss: 0.2314, val_acc: 0.9288\n",
            "0.2982996649257642\n",
            "Epoch [18], last_lr: 0.00013, train_loss: 0.0489, val_loss: 0.2267, val_acc: 0.9302\n",
            "0.20304908058971297\n",
            "Epoch [19], last_lr: 0.00000, train_loss: 0.0417, val_loss: 0.2264, val_acc: 0.9309\n",
            "0.15030988064526385\n",
            "CPU times: user 6min 30s, sys: 9.99 s, total: 6min 40s\n",
            "Wall time: 12min 4s\n"
          ]
        }
      ]
    },
    {
      "cell_type": "code",
      "source": [
        "# history"
      ],
      "metadata": {
        "id": "d-73ZVfGCedj"
      },
      "execution_count": null,
      "outputs": []
    },
    {
      "cell_type": "markdown",
      "source": [
        "### Visualization"
      ],
      "metadata": {
        "id": "ybMDNuxX3oHW"
      }
    },
    {
      "cell_type": "code",
      "source": [
        "def plot_l2_norm(l2_norm_list):\n",
        "    plt.plot(l2_norm_list, '-x')\n",
        "    plt.xlabel('epoch')\n",
        "    plt.ylabel('l2 norm of gradient')\n",
        "    plt.ylim(0, 100)\n",
        "    plt.title('Squared L2 norm of gradients with batch normalization');\n",
        "\n",
        "plot_l2_norm(history[-1])"
      ],
      "metadata": {
        "colab": {
          "base_uri": "https://localhost:8080/",
          "height": 295
        },
        "id": "75eRJAxarimz",
        "outputId": "584acd2c-cac5-42cb-ae64-8522e8aa1cd7"
      },
      "execution_count": null,
      "outputs": [
        {
          "output_type": "display_data",
          "data": {
            "text/plain": [
              "<Figure size 432x288 with 1 Axes>"
            ],
            "image/png": "[encoded data removed]"
          },
          "metadata": {
            "needs_background": "light"
          }
        }
      ]
    },
    {
      "cell_type": "code",
      "source": [
        "history_eval = []\n",
        "history_eval.append(history[0])\n",
        "for i in history[1][1:-1]:\n",
        "    history_eval.append(i)"
      ],
      "metadata": {
        "id": "6HxepB2LpJGu"
      },
      "execution_count": null,
      "outputs": []
    },
    {
      "cell_type": "code",
      "source": [
        "def plot_lrs(history):\n",
        "    lrs = np.concatenate([x.get('lrs', []) for x in history])\n",
        "    plt.plot(lrs)\n",
        "    plt.xlabel('Batch no.')\n",
        "    plt.ylabel('Learning rate')\n",
        "    plt.title('Learning Rate vs. Batch no.');\n",
        "\n",
        "plot_lrs(history_eval)"
      ],
      "metadata": {
        "colab": {
          "base_uri": "https://localhost:8080/",
          "height": 295
        },
        "id": "fBktNp8X3qzY",
        "outputId": "1b810fb1-7909-475a-c5de-1f003ccaa8b6"
      },
      "execution_count": null,
      "outputs": [
        {
          "output_type": "display_data",
          "data": {
            "text/plain": [
              "<Figure size 432x288 with 1 Axes>"
            ],
            "image/png": "[encoded data removed]"
          },
          "metadata": {
            "needs_background": "light"
          }
        }
      ]
    },
    {
      "cell_type": "code",
      "source": [
        "def plot_losses(history):\n",
        "    train_losses = [x.get('train_loss') for x in history]\n",
        "    val_losses = [x['val_loss'] for x in history]\n",
        "    plt.plot(train_losses, '-bx')\n",
        "    plt.plot(val_losses, '-rx')\n",
        "    plt.xlabel('epoch')\n",
        "    plt.ylabel('loss')\n",
        "    plt.legend(['Training', 'Validation'])\n",
        "    plt.title('Loss vs. No. of epochs');\n",
        "\n",
        "plot_losses(history_eval)"
      ],
      "metadata": {
        "colab": {
          "base_uri": "https://localhost:8080/",
          "height": 295
        },
        "id": "AxXVduba3vIN",
        "outputId": "d8050f94-15d7-45f5-96c0-f8a22aa4e173"
      },
      "execution_count": null,
      "outputs": [
        {
          "output_type": "display_data",
          "data": {
            "text/plain": [
              "<Figure size 432x288 with 1 Axes>"
            ],
            "image/png": "[encoded data removed]"
          },
          "metadata": {
            "needs_background": "light"
          }
        }
      ]
    },
    {
      "cell_type": "code",
      "source": [
        "def plot_accuracies(history):\n",
        "    accuracies = [x['val_acc'] for x in history]\n",
        "    plt.plot(accuracies, '-x')\n",
        "    plt.xlabel('epoch')\n",
        "    plt.ylabel('accuracy')\n",
        "    plt.title('Accuracy vs. No. of epochs');\n",
        "\n",
        "plot_accuracies(history_eval)"
      ],
      "metadata": {
        "colab": {
          "base_uri": "https://localhost:8080/",
          "height": 295
        },
        "id": "-RODFRzf3wu-",
        "outputId": "591fbc8c-447f-48bd-9689-404d385257fd"
      },
      "execution_count": null,
      "outputs": [
        {
          "output_type": "display_data",
          "data": {
            "text/plain": [
              "<Figure size 432x288 with 1 Axes>"
            ],
            "image/png": "[encoded data removed]"
          },
          "metadata": {
            "needs_background": "light"
          }
        }
      ]
    }
  ]
}