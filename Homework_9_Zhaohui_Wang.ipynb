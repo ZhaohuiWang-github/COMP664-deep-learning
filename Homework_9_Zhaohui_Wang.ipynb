{
  "cells": [
    {
      "cell_type": "markdown",
      "metadata": {
        "id": "Ovi3rNd9BeZ4"
      },
      "source": [
        "# Homework 9\n",
        "\n",
        "In this homework, you will be using a form of attention called *attention pooling* to solve the \"addition problem\". The addition problem was introduced in the [LSTM paper](https://www.bioinf.jku.at/publications/older/2604.pdf) as a way to test whether an RNN could propagate information across many time steps. In the addition problem, the model is given a sequence of 2D vectors in the format:\n",
        "\n",
        "|     |      |     |     |      |     |      |     |     |     |     |\n",
        "|-----|------|-----|-----|------|-----|------|-----|-----|-----|-----|\n",
        "| 0.5 | -0.7 | 0.3 | 0.1 | -0.2 | ... | -0.5 | 0.9 | ... | 0.8 | 0.2 |\n",
        "| 0   |   0  |  1  |  0  |   0  |     |   0  |  1  |     |  0  |  0  |\n",
        "\n",
        "The first dimension of each vector in the sequence is a random number between 0 and 1. The second dimension is 0 for all entries of the sequence expect for 2, where it is 1. The goal of the addition problem is to output the sum of the values in the first dimension at the two indices where the second dimension is 1. In the example above, the target would be 0.9 + 0.3 = 1.2. Below is a code snippet that generates a sequence and its target for the addition problem."
      ]
    },
    {
      "cell_type": "code",
      "execution_count": 1,
      "metadata": {
        "id": "r42nn-jOxhKp"
      },
      "outputs": [],
      "source": [
        "import numpy as np\n",
        "\n",
        "def addition_problem(sequence_length=50):\n",
        "    output = np.random.uniform(-1, 1, (sequence_length, 2))\n",
        "    output[:, 0] = 0.\n",
        "    random_indices = np.random.choice(sequence_length, size=2, replace=False)\n",
        "    output[random_indices, [0, 0]] = 1\n",
        "    return output, (output[:, 0]*output[:, 1]).sum(keepdims=True)"
      ]
    },
    {
      "cell_type": "code",
      "execution_count": 2,
      "metadata": {
        "colab": {
          "base_uri": "https://localhost:8080/"
        },
        "id": "o9xkvujVDCXx",
        "outputId": "7c299c8d-7345-4eab-b52d-e3aead4d6ee1"
      },
      "outputs": [
        {
          "data": {
            "text/plain": [
              "(array([[ 0.        , -0.65826593],\n",
              "        [ 0.        ,  0.60228335],\n",
              "        [ 0.        , -0.04416288],\n",
              "        [ 1.        , -0.01130421],\n",
              "        [ 0.        , -0.81115185],\n",
              "        [ 0.        ,  0.2488151 ],\n",
              "        [ 1.        , -0.37346769],\n",
              "        [ 0.        ,  0.31698922],\n",
              "        [ 0.        ,  0.64959472],\n",
              "        [ 0.        ,  0.62665656]]), array([-0.38477191]))"
            ]
          },
          "execution_count": 2,
          "metadata": {},
          "output_type": "execute_result"
        }
      ],
      "source": [
        "addition_problem(10)"
      ]
    },
    {
      "cell_type": "markdown",
      "metadata": {
        "id": "Ew0FypwYCwpn"
      },
      "source": [
        "Attention pooling is a form of attention that allows a model to solve the addition problem without using an RNN. In attention pooling, the query vector $q$ is a *learnable parameter*. The keys and values are both the input sequence. Specifically, given a sequence $\\{h_1, h_2, \\ldots, h_T\\}$, attention pooling computes\n",
        "\\begin{align}\n",
        "e_t &= \\mathrm{a}(q, h_t) \\\\\n",
        "\\alpha_t &= \\frac{\\exp(e_t)}{\\sum_k \\exp(e_k)} \\\\\n",
        "c &= \\sum_{t = 1}^T \\alpha_t h_t\n",
        "\\end{align}\n",
        "where $\\mathrm{a}(q, h_t)$ is the attention energy function. Note that c will always be a fixed-length vector (which amounts to a weighted average of the elements of the sequence $h$) regardless of how long the sequence is (i.e. the value of $T$). $\\mathrm{a}(q, h_t)$ can be any function that takes in a single entry of the sequence $h_t$ and outputs an unnormalizes scalar value. One option is to use\n",
        "$$\\mathrm{a}(q, h_t) = q^\\top \\tanh(W_a h_t + b_a)$$\n",
        "where $q \\in \\mathbb{R}^q$, $W_a \\in \\mathbb{R}^{q \\times d}$, and $b_a \\in \\mathbb{R}^q$ are learnable parameters, and $d$ is the dimensionality of $h_t$ (i.e. $h_t \\in \\mathbb{R}^d$).\n",
        "\n",
        "\n",
        "1. Build and train a neural network that uses attention pooling to solve the addition problem. The model should output a scalar which corresponds to the target value for the addition problem (i.e. the sum of the sequence entries that are marked with a \"1\"). Here, \"solved\" means that the squared error of the model's predicitons is always below $0.05$. Use a sequence length of $50$ (which is the default for the `addition_problem` function defined above). *Hints*:\n",
        "  1. This is a regression problem. Your model should predict a continuous scalar value and you can use a squared-error loss.\n",
        "  1. The point of the attention pooling layer is to allow you to put it in an otherwise feed-forward network. So, consider just using simple dense feed-forward layers before and/or after the attention pooling layer. To start, you can try the architecture: feed-forward, attention pooling, feed-forward, output layer.\n",
        "  1. If you are finding that the model is getting stuck at a non-zero squared error, it could be that it's just outputting the mean value and having trouble learning a good solution. Try different initialization, nonlinearities, architecture, learning rate, etc.\n",
        "1. Once you have trained a model that gets solid performance at sequence length $50$, plot the model's average squared error for sequence lengths $50, 55, 65, 80, 100, 125, 150$. You should generate this plot by averaging the squared error over at least $100$ sequences of a given length. Does the model's error get worse (go up) for longer sequences, or does it generalize to longer sequence lengths?"
      ]
    },
    {
      "cell_type": "code",
      "execution_count": 3,
      "metadata": {
        "id": "ZVpxSsd2FCuN"
      },
      "outputs": [],
      "source": [
        "import numpy as np\n",
        "import torch\n",
        "import torch.nn as nn\n",
        "import torch.optim as optim"
      ]
    },
    {
      "cell_type": "code",
      "execution_count": 4,
      "metadata": {
        "id": "jnoRv-csTK03"
      },
      "outputs": [],
      "source": [
        "# Attention Pooling Layer\n",
        "class AttentionPooling(nn.Module):\n",
        "    def __init__(self, input_dim, attention_dim):\n",
        "        super(AttentionPooling, self).__init__()\n",
        "        self.W_a = nn.Linear(input_dim, attention_dim)\n",
        "        self.q = nn.Parameter(torch.randn(attention_dim))\n",
        "\n",
        "    def forward(self, x):\n",
        "        energy = torch.matmul(torch.tanh(self.W_a(x)), self.q)\n",
        "        attention_weights = torch.softmax(energy, dim=1)\n",
        "        context = torch.sum(attention_weights.unsqueeze(2) * x, dim=1)\n",
        "        return context"
      ]
    },
    {
      "cell_type": "code",
      "execution_count": 5,
      "metadata": {
        "id": "y0LMrhlOUP96"
      },
      "outputs": [],
      "source": [
        "# Addition Problem Model\n",
        "class AdditionProblemModel(nn.Module):\n",
        "    def __init__(self, input_dim, hidden_dim, attention_dim, output_dim):\n",
        "        super(AdditionProblemModel, self).__init__()\n",
        "        self.ff1 = nn.Linear(input_dim, hidden_dim)\n",
        "        self.attention_pooling = AttentionPooling(hidden_dim, attention_dim)\n",
        "        self.ff2 = nn.Linear(hidden_dim, hidden_dim)\n",
        "        self.output = nn.Linear(hidden_dim, output_dim)\n",
        "\n",
        "    def forward(self, x):\n",
        "        x = torch.relu(self.ff1(x))\n",
        "        x = self.attention_pooling(x)\n",
        "        x = torch.relu(self.ff2(x))\n",
        "        x = self.output(x)\n",
        "        return x"
      ]
    },
    {
      "cell_type": "code",
      "execution_count": 6,
      "metadata": {
        "id": "ukfKn0loHl9j"
      },
      "outputs": [],
      "source": [
        "# Train\n",
        "def train(model, criterion, optimizer, epochs, batch_size, sequence_length):\n",
        "\n",
        "    loss_list = []\n",
        "\n",
        "    for epoch in range(epochs):\n",
        "        # Prepare data\n",
        "        X, y = [], []\n",
        "        for _ in range(batch_size):\n",
        "            sequence, target = addition_problem(sequence_length)\n",
        "            X.append(sequence)\n",
        "            y.append(target)\n",
        "\n",
        "        X = np.array(X)\n",
        "        y = np.array(y)\n",
        "        X = torch.tensor(X, dtype=torch.float32)\n",
        "        y = torch.tensor(y, dtype=torch.float32)\n",
        "        \n",
        "        # Forward pass\n",
        "        optimizer.zero_grad()\n",
        "        output = model(X)\n",
        "        \n",
        "        # Compute loss\n",
        "        loss = criterion(output, y)\n",
        "        \n",
        "        # Backward pass\n",
        "        loss.backward()\n",
        "        optimizer.step()\n",
        "\n",
        "        # store loss\n",
        "        loss_list.append(loss.item())\n",
        "        \n",
        "        if (epoch + 1) % 100 == 0:\n",
        "            print(f'Epoch [{epoch+1}/{epochs}], Loss: {loss.item():.8f}')\n",
        "    \n",
        "    return loss_list"
      ]
    },
    {
      "cell_type": "code",
      "execution_count": 7,
      "metadata": {
        "colab": {
          "base_uri": "https://localhost:8080/"
        },
        "id": "4gDxLYJEKCj6",
        "outputId": "df3e5f8d-742d-427c-8c4f-314bc21346ed"
      },
      "outputs": [
        {
          "name": "stdout",
          "output_type": "stream",
          "text": [
            "Epoch [100/5000], Loss: 0.12249094\n",
            "Epoch [200/5000], Loss: 0.06460960\n",
            "Epoch [300/5000], Loss: 0.03581068\n",
            "Epoch [400/5000], Loss: 0.00261788\n",
            "Epoch [500/5000], Loss: 0.00082357\n",
            "Epoch [600/5000], Loss: 0.00023833\n",
            "Epoch [700/5000], Loss: 0.00012625\n",
            "Epoch [800/5000], Loss: 0.00010693\n",
            "Epoch [900/5000], Loss: 0.00018698\n",
            "Epoch [1000/5000], Loss: 0.00004012\n",
            "Epoch [1100/5000], Loss: 0.00004479\n",
            "Epoch [1200/5000], Loss: 0.00012964\n",
            "Epoch [1300/5000], Loss: 0.00006099\n",
            "Epoch [1400/5000], Loss: 0.00008340\n",
            "Epoch [1500/5000], Loss: 0.00010475\n",
            "Epoch [1600/5000], Loss: 0.00017092\n",
            "Epoch [1700/5000], Loss: 0.00164493\n",
            "Epoch [1800/5000], Loss: 0.00008815\n",
            "Epoch [1900/5000], Loss: 0.00109084\n",
            "Epoch [2000/5000], Loss: 0.00604970\n",
            "Epoch [2100/5000], Loss: 0.00004935\n",
            "Epoch [2200/5000], Loss: 0.00002979\n",
            "Epoch [2300/5000], Loss: 0.00001112\n",
            "Epoch [2400/5000], Loss: 0.00008334\n",
            "Epoch [2500/5000], Loss: 0.00057831\n",
            "Epoch [2600/5000], Loss: 0.00295377\n",
            "Epoch [2700/5000], Loss: 0.00033617\n",
            "Epoch [2800/5000], Loss: 0.00002578\n",
            "Epoch [2900/5000], Loss: 0.00069379\n",
            "Epoch [3000/5000], Loss: 0.00004485\n",
            "Epoch [3100/5000], Loss: 0.00006429\n",
            "Epoch [3200/5000], Loss: 0.00001544\n",
            "Epoch [3300/5000], Loss: 0.00002167\n",
            "Epoch [3400/5000], Loss: 0.00001842\n",
            "Epoch [3500/5000], Loss: 0.00027473\n",
            "Epoch [3600/5000], Loss: 0.00000855\n",
            "Epoch [3700/5000], Loss: 0.00589112\n",
            "Epoch [3800/5000], Loss: 0.00004463\n",
            "Epoch [3900/5000], Loss: 0.00004564\n",
            "Epoch [4000/5000], Loss: 0.00001578\n",
            "Epoch [4100/5000], Loss: 0.00039833\n",
            "Epoch [4200/5000], Loss: 0.00002750\n",
            "Epoch [4300/5000], Loss: 0.00005328\n",
            "Epoch [4400/5000], Loss: 0.00006591\n",
            "Epoch [4500/5000], Loss: 0.00011346\n",
            "Epoch [4600/5000], Loss: 0.00019518\n",
            "Epoch [4700/5000], Loss: 0.00050341\n",
            "Epoch [4800/5000], Loss: 0.00001821\n",
            "Epoch [4900/5000], Loss: 0.00000530\n",
            "Epoch [5000/5000], Loss: 0.00237392\n",
            "CPU times: user 27.4 s, sys: 748 ms, total: 28.2 s\n",
            "Wall time: 32.6 s\n"
          ]
        }
      ],
      "source": [
        "%%time\n",
        "\n",
        "# Hyperparameters\n",
        "input_dim = 2\n",
        "hidden_dim = 128\n",
        "attention_dim = 64\n",
        "output_dim = 1\n",
        "lr = 0.001\n",
        "\n",
        "epochs = 5000\n",
        "batch_size = 32\n",
        "sequence_length = 50\n",
        "\n",
        "# Create the model, loss function, and optimizer\n",
        "model = AdditionProblemModel(input_dim, hidden_dim, attention_dim, output_dim)\n",
        "criterion = nn.MSELoss()\n",
        "optimizer = optim.Adam(model.parameters(), lr=lr)\n",
        "\n",
        "# Train\n",
        "loss_list = train(model, criterion, optimizer, epochs, batch_size, sequence_length)"
      ]
    },
    {
      "cell_type": "code",
      "execution_count": 8,
      "metadata": {
        "colab": {
          "base_uri": "https://localhost:8080/",
          "height": 295
        },
        "id": "v8GWIM_1YCp4",
        "outputId": "b5d94045-b504-496c-aefe-4dd5fbb32ee1"
      },
      "outputs": [
        {
          "data": {
            "image/png": "[encoded data removed]",
            "text/plain": [
              "<Figure size 432x288 with 1 Axes>"
            ]
          },
          "metadata": {
            "needs_background": "light"
          },
          "output_type": "display_data"
        }
      ],
      "source": [
        "import matplotlib.pyplot as plt\n",
        "\n",
        "plt.figure()\n",
        "plt.plot(loss_list)\n",
        "plt.xlabel('Epoch')\n",
        "plt.ylabel('Loss')\n",
        "plt.title('Training Loss')\n",
        "plt.grid()\n",
        "plt.show()"
      ]
    },
    {
      "cell_type": "code",
      "execution_count": 9,
      "metadata": {
        "colab": {
          "base_uri": "https://localhost:8080/"
        },
        "id": "135aTDLRIFyM",
        "outputId": "e514151d-6fb1-4b78-94b0-a8abcaa19192"
      },
      "outputs": [
        {
          "name": "stdout",
          "output_type": "stream",
          "text": [
            "Target Sum: -0.32009121775627136\n",
            "Model Output: -0.3398952782154083\n"
          ]
        }
      ],
      "source": [
        "# Test\n",
        "def test(sequence_length, model):\n",
        "    sequence, target = addition_problem(sequence_length)\n",
        "\n",
        "    # print(sequence)\n",
        "    # print(target)\n",
        "\n",
        "    X_test = torch.tensor(sequence[np.newaxis, :], dtype=torch.float32)\n",
        "    y_test = torch.tensor(target[np.newaxis, :], dtype=torch.float32)\n",
        "\n",
        "    with torch.no_grad():\n",
        "        output = model(X_test)\n",
        "        print('Target Sum:', y_test.item())\n",
        "        print('Model Output:', output.item())\n",
        "\n",
        "\n",
        "test(sequence_length, model)"
      ]
    },
    {
      "cell_type": "code",
      "execution_count": 10,
      "metadata": {
        "colab": {
          "base_uri": "https://localhost:8080/",
          "height": 416
        },
        "id": "w_p-FvYIaDu-",
        "outputId": "4c0c431e-e807-4544-a424-25db50904a8b"
      },
      "outputs": [
        {
          "name": "stdout",
          "output_type": "stream",
          "text": [
            "Sequence Length: 50, Average Squared Error: 0.00028617\n",
            "Sequence Length: 55, Average Squared Error: 0.00051671\n",
            "Sequence Length: 65, Average Squared Error: 0.00108775\n",
            "Sequence Length: 80, Average Squared Error: 0.00244350\n",
            "Sequence Length: 100, Average Squared Error: 0.00505041\n",
            "Sequence Length: 125, Average Squared Error: 0.00909538\n",
            "Sequence Length: 150, Average Squared Error: 0.01480902\n"
          ]
        },
        {
          "data": {
            "image/png": "[encoded data removed]",
            "text/plain": [
              "<Figure size 432x288 with 1 Axes>"
            ]
          },
          "metadata": {
            "needs_background": "light"
          },
          "output_type": "display_data"
        }
      ],
      "source": [
        "# Test the model on different sequence lengths\n",
        "sequence_lengths = [50, 55, 65, 80, 100, 125, 150]\n",
        "num_sequences = 1000\n",
        "avg_squared_errors = []\n",
        "\n",
        "for length in sequence_lengths:\n",
        "    squared_errors = []\n",
        "    for _ in range(num_sequences):\n",
        "        sequence, target = addition_problem(length)\n",
        "        X_test = torch.tensor(sequence[np.newaxis, :], dtype=torch.float32)\n",
        "        y_test = torch.tensor(target[np.newaxis, :], dtype=torch.float32)\n",
        "\n",
        "        with torch.no_grad():\n",
        "            output = model(X_test)\n",
        "            squared_error = (output - y_test).pow(2).item()\n",
        "            squared_errors.append(squared_error)\n",
        "    \n",
        "    avg_squared_error = np.mean(squared_errors)\n",
        "    avg_squared_errors.append(avg_squared_error)\n",
        "\n",
        "    print(f\"Sequence Length: {length}, Average Squared Error: {avg_squared_error:.8f}\")\n",
        "\n",
        "# Plot the results\n",
        "plt.plot(sequence_lengths, avg_squared_errors, marker='o')\n",
        "plt.xlabel('Sequence Length')\n",
        "plt.ylabel('Average Squared Error')\n",
        "plt.title('Model\\'s Average Squared Error for Different Sequence Lengths')\n",
        "plt.grid()\n",
        "plt.show()"
      ]
    },
    {
      "attachments": {},
      "cell_type": "markdown",
      "metadata": {},
      "source": [
        "As we can see, the model's error get worse for longer sequences."
      ]
    }
  ],
  "metadata": {
    "accelerator": "GPU",
    "colab": {
      "provenance": []
    },
    "gpuClass": "standard",
    "kernelspec": {
      "display_name": "Python 3",
      "name": "python3"
    },
    "language_info": {
      "name": "python"
    }
  },
  "nbformat": 4,
  "nbformat_minor": 0
}
