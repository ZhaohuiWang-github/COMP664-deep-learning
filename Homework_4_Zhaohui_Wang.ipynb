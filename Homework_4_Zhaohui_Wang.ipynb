{
  "cells": [
    {
      "cell_type": "markdown",
      "metadata": {
        "id": "nkK2eaK1SiNt"
      },
      "source": [
        "# 1. Backpropagation for bias vectors (1 point)\n",
        "\n",
        "In class, we discussed a multilayer perceptron (neural network) whose layers were all \"dense\", i.e. the output $a^m \\in \\mathbb{R}^{N^m}$ of the $m$th layer is computed as \n",
        "\\begin{align*}\n",
        "z^m &= W^m a^{m - 1} + b^m \\\\\n",
        "a^m &= \\sigma^m(z^m)\n",
        "\\end{align*}\n",
        "where $W^m \\in \\mathbb{R}^{N^m \\times N^{m - 1}}$ is the weight matrix, $b^m \\in \\mathbb{R}^{N^m}$ is the bias vector, and $\\sigma^m$ is the nonlinearity. We showed that \n",
        "$$\\frac{\\partial C}{\\partial W^m} = \\frac{\\partial C}{\\partial z^m} a^{m - 1 \\top}$$\n",
        "Show that\n",
        "$$\\frac{\\partial C}{\\partial b^m} = \\frac{\\partial C}{\\partial z^m}$$\n",
        "Hint: The derivation is almost the same as for $W$."
      ]
    },
    {
      "attachments": {},
      "cell_type": "markdown",
      "metadata": {},
      "source": [
        "**Solution:**\n",
        "\n",
        "$$\n",
        "\\frac{\\partial C}{\\partial b^m} = \n",
        "\\frac{\\partial C}{\\partial b^m} = \\sum_{k=1}^{N}\\frac{\\partial C}{\\partial z^m_{k}} \\frac{\\partial z^m_{k}}{\\partial b^m_{ij}}\n",
        "$$\n",
        "\n",
        "$$\n",
        "z^m_k = \\sum_{e=1}^{N^m} W_{k,e}^m a_e^{m - 1} + b_{k}^m\n",
        "$$\n",
        "\n",
        "If $i = k$,\n",
        "$$\n",
        "\\frac{\\partial z_i^m}{\\partial b_{i,j}^m} = \\frac{\\partial \\sum_{e=1}^{N^m} (W_{i,e}^m a_e^{m - 1} + b_{i}^m)}{\\partial b_{i,j}^m} = 1^m\n",
        "$$\n",
        "\n",
        "If $i \\not= k $, \n",
        "$$\n",
        "\\frac{\\partial z_i^m}{\\partial b_{i,j}^m} = 0\n",
        "$$\n",
        "\n",
        "Therefore,\n",
        "$$\n",
        "\\frac{\\partial C}{\\partial b^m} = \n",
        "\\frac{\\partial C}{\\partial z^m}\n",
        "$$"
      ]
    },
    {
      "cell_type": "markdown",
      "metadata": {
        "id": "TerrZtS6T31p"
      },
      "source": [
        "# 2. MLP from scratch (3 points)\n",
        "\n",
        "Using numpy only, implement backward pass or a sigmoid MLP. Specifically, you will need to implement this functionality in the `train` function in the `SigmoidMLP` class below. You should write numpy code to populate the two lists `weight_gradients` and `bias_gradient`, where each entry in each list corresponds to the gradient for a weight matrix or bias vector for each layer. Then, when you run the code cell at the bottom of this notebook, the trained MLP should output (approximately) 0, 1, 1, 0, having learned the [XOR function](https://en.wikipedia.org/wiki/Exclusive_or). Please us a binary cross-entropy loss, i.e.\n",
        "$$C(a^L, y) = (y - 1)\\log(1 - a^L) - y\\log(a^L)$$\n",
        "\n",
        "*Note 1*: All layers in your model, including the last layer, will use the sigmoid cross-entropy function. Remember that \n",
        "$$\n",
        "\\frac{\\partial}{\\partial x}\\mathrm{sigmoid}(x) = \\mathrm{sigmoid}(x)(1 - \\mathrm{sigmoid}(x))$$\n",
        "\n",
        "*Note 2*: As we mentioned in class,\n",
        "$$\n",
        "\\frac{\\partial C}{\\partial z^L} = a^L - y\n",
        "$$"
      ]
    },
    {
      "cell_type": "code",
      "execution_count": 31,
      "metadata": {},
      "outputs": [],
      "source": [
        "import numpy as np"
      ]
    },
    {
      "cell_type": "code",
      "execution_count": 32,
      "metadata": {},
      "outputs": [],
      "source": [
        "class Layer:\n",
        "    def __init__(self, inputs, outputs):\n",
        "        # Initialize weight matrix and bias vector\n",
        "        # Getting the initialization right can be tricky, but for this problem\n",
        "        # simply drawing from a standard normal distribution should work.\n",
        "        self.weights = np.random.randn(outputs, inputs)\n",
        "        self.biases = np.random.randn(outputs, 1)\n",
        "    def __call__(self, X):\n",
        "        # Compute \\sigmoid(Wx + b)\n",
        "        return 1/(1 + np.exp(-(self.weights.dot(X) + self.biases)))"
      ]
    },
    {
      "cell_type": "code",
      "execution_count": 33,
      "metadata": {
        "id": "W-v0EeRsV8m9"
      },
      "outputs": [],
      "source": [
        "class SigmoidMLP:\n",
        "\n",
        "    def __init__(self, layer_widths):\n",
        "        self.layers = []\n",
        "        for inputs, outputs in zip(layer_widths[:-1], layer_widths[1:]):\n",
        "            self.layers.append(Layer(inputs, outputs))\n",
        "    \n",
        "    def train(self, inputs, targets, learning_rate):\n",
        "        # Forward pass - compute each layer's output and store it for later use\n",
        "        layer_outputs = [inputs]\n",
        "        for layer in self.layers:\n",
        "            layer_outputs.append(layer(layer_outputs[-1]))\n",
        "        \n",
        "        # Implement backward pass to populate weight_gradients and bias_gradients\n",
        "        # lists here\n",
        "        weight_gradients = []\n",
        "        bias_gradients = []\n",
        "        # ... (your code here) ...\n",
        "\n",
        "\n",
        "        # ------------------------------Method 1: Each layer is calculated separately--------------------\n",
        "        # # output layer\n",
        "        # weight_gradient_2 = np.dot((layer_outputs[2] - targets), layer_outputs[1].T)\n",
        "        # bias_gradient_2 = layer_outputs[2] - targets\n",
        "        # bias_gradient_2 = (np.mean(bias_gradient_2, 1)).reshape(self.layers[1].biases.shape)  # reshape(1, 1)\n",
        "\n",
        "        # # hidden layer\n",
        "        # weight_gradient_1 = np.dot(np.dot(self.layers[-1].weights.T , (layer_outputs[2] - targets)) * layer_outputs[1] * (1 - layer_outputs[1]) , layer_outputs[0].T)\n",
        "        # bias_gradient_1 = np.dot(self.layers[-1].weights.T, (layer_outputs[2] - targets)) * layer_outputs[1] * (1 - layer_outputs[1])\n",
        "        # bias_gradient_1 = (np.mean(bias_gradient_1, 1)).reshape(self.layers[0].biases.shape)  # reshape(2, 1)\n",
        "\n",
        "        # # add the gradients to lists\n",
        "        # weight_gradients.append(weight_gradient_1)\n",
        "        # weight_gradients.append(weight_gradient_2)\n",
        "        # bias_gradients.append(bias_gradient_1)\n",
        "        # bias_gradients.append(bias_gradient_2)\n",
        "        # -----------------------------------------Method 1 end-----------------------------------------------------\n",
        "\n",
        "\n",
        "        # ------------------Method 2: Use loop-----------------------\n",
        "        # dc_dzl = layer_outputs[-1] - targets\n",
        "        # dc_dzm = [dc_dzl]\n",
        "\n",
        "        # dc_dwl = np.dot(dc_dzl, layer_outputs[-2].T)\n",
        "        # dc_dwm = [dc_dwl]\n",
        "\n",
        "        # dc_dbl = np.mean(dc_dzl, 1).reshape(self.layers[-1].biases.shape)\n",
        "        # dc_dbm = [dc_dbl]\n",
        "\n",
        "        # for i in range(len(self.layers), -1, -1):\n",
        "        #     # dc_dzm \n",
        "        #     dc_dz = np.dot(self.layers[i-1].weights.T, dc_dzm[-1]) * layer_outputs[i-1] * (1 - layer_outputs[i-1])\n",
        "        #     dc_dzm.append(dc_dz)\n",
        "        #     # dc_dwm\n",
        "        #     dc_dw = np.dot(dc_dz, layer_outputs[i-2].T)\n",
        "        #     dc_dwm.append(dc_dw)\n",
        "        #     # dc_dbm\n",
        "        #     dc_db = np.mean(dc_dz, 1).reshape(self.layers[i-2].biases.shape)\n",
        "        #     dc_dbm.append(dc_db)\n",
        "        #     # end loop\n",
        "        #     if i == 2:\n",
        "        #         break\n",
        "        \n",
        "        # # reverse the gradients\n",
        "        # weight_gradients = reversed(dc_dwm)\n",
        "        # bias_gradients = reversed(dc_dbm)\n",
        "        # -------------------------------------------- Method 2 end ----------------------------------------\n",
        "        \n",
        "\n",
        "        # ---------------------------------------- Method 3: Optimization of method 2 ---------------------\n",
        "        dc_dzl = layer_outputs[-1] - targets\n",
        "        dc_dzm = dc_dzl\n",
        "\n",
        "        for i in range(len(self.layers), 0, -1):\n",
        "            dc_dwm = np.dot(dc_dzm, layer_outputs[i-1].T)\n",
        "            dc_dbm = np.mean(dc_dzm, 1).reshape(self.layers[i-1].biases.shape)\n",
        "            dc_dzm = np.dot(self.layers[i-1].weights.T, dc_dzm) * layer_outputs[i-1] * (1 - layer_outputs[i-1])\n",
        "\n",
        "            weight_gradients.append(dc_dwm)\n",
        "            bias_gradients.append(dc_dbm)\n",
        "        \n",
        "        weight_gradients.reverse()\n",
        "        bias_gradients.reverse()\n",
        "        # ---------------------------------------- Method 3 end -----------------------------\n",
        "\n",
        "\n",
        "        # Perform gradient descent by applying updates\n",
        "        for weight_gradient, bias_gradient, layer in zip(weight_gradients, bias_gradients, self.layers):\n",
        "            layer.weights -= weight_gradient*learning_rate\n",
        "            layer.biases -= bias_gradient*learning_rate\n",
        "\n",
        "    def __call__(self, inputs):\n",
        "        a = inputs\n",
        "        for layer in self.layers:\n",
        "            a = layer(a)\n",
        "        return a\n"
      ]
    },
    {
      "cell_type": "code",
      "execution_count": 34,
      "metadata": {},
      "outputs": [],
      "source": [
        "def train_mlp(n_iterations, learning_rate):\n",
        "    mlp = SigmoidMLP([2, 2, 1])\n",
        "    inputs = np.array([[0, 1, 0, 1], \n",
        "                       [0, 0, 1, 1]])\n",
        "    targets = np.array([[0, 1, 1, 0]])\n",
        "    for _ in range(n_iterations):\n",
        "        mlp.train(inputs, targets, learning_rate)\n",
        "    return mlp"
      ]
    },
    {
      "cell_type": "code",
      "execution_count": 35,
      "metadata": {
        "id": "yoAl7lW_WyNg"
      },
      "outputs": [
        {
          "name": "stdout",
          "output_type": "stream",
          "text": [
            "[[0.00706881]]\n",
            "[[0.99715013]]\n",
            "[[0.99715001]]\n",
            "[[0.00320043]]\n"
          ]
        }
      ],
      "source": [
        "# You may need to change the n_iterations and learning_rate values\n",
        "# but these worked for me\n",
        "mlp = train_mlp(1000, 1.)\n",
        "# The following calls should result in (approximately) 0, 1, 1, 0\n",
        "# If the outputs are somewhat close, your training has succeeded!\n",
        "print(mlp(np.array([0, 0]).reshape(-1, 1)))\n",
        "print(mlp(np.array([0, 1]).reshape(-1, 1)))\n",
        "print(mlp(np.array([1, 0]).reshape(-1, 1)))\n",
        "print(mlp(np.array([1, 1]).reshape(-1, 1)))"
      ]
    }
  ],
  "metadata": {
    "colab": {
      "provenance": []
    },
    "kernelspec": {
      "display_name": "base",
      "language": "python",
      "name": "python3"
    },
    "language_info": {
      "codemirror_mode": {
        "name": "ipython",
        "version": 3
      },
      "file_extension": ".py",
      "mimetype": "text/x-python",
      "name": "python",
      "nbconvert_exporter": "python",
      "pygments_lexer": "ipython3",
      "version": "3.8.8"
    },
    "vscode": {
      "interpreter": {
        "hash": "d7e7c9655652f6d80f4d6560949e9f895eee9f7352e36ace07a9d4e289f1e41a"
      }
    }
  },
  "nbformat": 4,
  "nbformat_minor": 0
}
