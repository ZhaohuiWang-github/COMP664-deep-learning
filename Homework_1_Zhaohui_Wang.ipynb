{
  "cells": [
    {
      "cell_type": "code",
      "execution_count": 2,
      "metadata": {
        "id": "pp-R4v8eehJ4"
      },
      "outputs": [],
      "source": [
        "import numpy as np\n",
        "import matplotlib.pyplot as plt"
      ]
    },
    {
      "cell_type": "code",
      "execution_count": 3,
      "metadata": {
        "id": "up2bDpU9fCk3"
      },
      "outputs": [],
      "source": [
        "def generate_data():\n",
        "    size = 1000\n",
        "    x = np.linspace(0, 1, size)\n",
        "    y = -10*x + 5\n",
        "    y += 15*np.logical_and(x > 0.75, x < 0.8).astype(float)\n",
        "    return x, y"
      ]
    },
    {
      "cell_type": "markdown",
      "metadata": {
        "id": "hTUMzQT3f0wm"
      },
      "source": [
        "# 1. Inspect the data (0.5 points)\n",
        "\n",
        "Using `matplotlib`, create a scatter plot of the data returned by `generate_data()`.\n",
        "What is out of the ordinary about this line?"
      ]
    },
    {
      "cell_type": "code",
      "execution_count": 4,
      "metadata": {
        "colab": {
          "base_uri": "https://localhost:8080/",
          "height": 388
        },
        "id": "eEfr6MfZfkyh",
        "outputId": "5252fb02-1539-4170-c465-6b68d4e6f854"
      },
      "outputs": [
        {
          "data": {
            "image/png": "[encoded data removed]",
            "text/plain": [
              "<Figure size 576x432 with 1 Axes>"
            ]
          },
          "metadata": {
            "needs_background": "light"
          },
          "output_type": "display_data"
        }
      ],
      "source": [
        "x = generate_data()[0]\n",
        "y = generate_data()[1]\n",
        "\n",
        "plt.figure(figsize=(8, 6))\n",
        "plt.scatter(x, y)\n",
        "plt.xlabel('X')\n",
        "plt.ylabel('Y')\n",
        "plt.show()"
      ]
    },
    {
      "cell_type": "markdown",
      "metadata": {
        "id": "gamAk2VkCXs_"
      },
      "source": [
        "- We can see that this line is not a continuous line. When x>0.75 and x<0.8, the line breaks."
      ]
    },
    {
      "cell_type": "markdown",
      "metadata": {
        "id": "DhgvBYNRfzG4"
      },
      "source": [
        "# 2. Implement linear regression (2 points)\n",
        "\n",
        "Implement a basic linear regression model which is fit to the data from `generate_data` using gradient descent.\n",
        "Your model should take the form `y = w*x + b`, where `y` is the output, `x` is the input, `w` is a weight parameter, and `b` is a bias parameter.\n",
        "You must use only `numpy` and derive any derivatives yourself (i.e. no autograd from TensorFlow, MXNet, Pytorch, JAX etc!).\n",
        "You should use a squared-error loss function.\n",
        "You are welcome to use any technique you want to decide when to stop training.\n",
        "Make sure you tune your optimization hyperparameters so that the model converges.\n",
        "Print out or plot the loss over the course of training."
      ]
    },
    {
      "cell_type": "code",
      "execution_count": 5,
      "metadata": {
        "id": "RjPjNFSugtci"
      },
      "outputs": [],
      "source": [
        "# initialize weights\n",
        "w = 1\n",
        "b = 1\n",
        "\n",
        "# set hyperparameters\n",
        "lr = 0.1\n",
        "times = 1000\n",
        "\n",
        "loss_list = []\n",
        "\n",
        "# gradient descent\n",
        "for i in range(times):\n",
        "    # squared-error loss\n",
        "    loss = (((w * x + b - y)**2).sum() / 2) / len(x)\n",
        "    loss_list.append(loss)\n",
        "    # print('{:4}:   w = {:.8f}, b = {:.8f}, loss = {:.8f}'.format(i+1, w, b, loss))\n",
        "\n",
        "    # update the parameters\n",
        "    d_w = (x * (w * x + b - y)).sum() / len(x)\n",
        "    d_b = (w * x + b - y).sum() / len(x)\n",
        "    w = w - lr * d_w\n",
        "    b = b - lr * d_b\n",
        "\n"
      ]
    },
    {
      "cell_type": "code",
      "execution_count": 6,
      "metadata": {
        "colab": {
          "base_uri": "https://localhost:8080/",
          "height": 388
        },
        "id": "xir7xCqZVhsD",
        "outputId": "6e58a8ca-78e9-40a5-9a60-57450b828bb1"
      },
      "outputs": [
        {
          "data": {
            "image/png": "[encoded data removed]",
            "text/plain": [
              "<Figure size 720x432 with 1 Axes>"
            ]
          },
          "metadata": {
            "needs_background": "light"
          },
          "output_type": "display_data"
        }
      ],
      "source": [
        "# plot the loss\n",
        "plt.figure(figsize=(10, 6))\n",
        "plt.plot(loss_list)\n",
        "plt.xlabel('step')\n",
        "plt.ylabel('loss')\n",
        "plt.show()"
      ]
    },
    {
      "cell_type": "markdown",
      "metadata": {
        "id": "p10i06F4KCJl"
      },
      "source": [
        "# 3. Analyze the result (0.5 points)\n",
        "\n",
        "Print out the values of `w` and `b` found by your model after training and compare them to the ground truth values (which can be found inside the code of the `generate_data` function).\n",
        "Are they close?\n",
        "Recreate the scatter plot you generated in question 1 and plot the model as a line on the same plot.\n",
        "What went wrong?\n"
      ]
    },
    {
      "cell_type": "code",
      "execution_count": 7,
      "metadata": {
        "colab": {
          "base_uri": "https://localhost:8080/"
        },
        "id": "ePF9ngfcXQYo",
        "outputId": "69316942-bb2d-4a60-ab41-ca15d21a8aef"
      },
      "outputs": [
        {
          "name": "stdout",
          "output_type": "stream",
          "text": [
            "-7.51656425901507\n"
          ]
        }
      ],
      "source": [
        "print(w)"
      ]
    },
    {
      "cell_type": "code",
      "execution_count": 8,
      "metadata": {
        "colab": {
          "base_uri": "https://localhost:8080/"
        },
        "id": "YbvCFfb7XRwL",
        "outputId": "5a0d2f5e-9547-4e1a-cff1-35f11ac820be"
      },
      "outputs": [
        {
          "name": "stdout",
          "output_type": "stream",
          "text": [
            "4.507897525151799\n"
          ]
        }
      ],
      "source": [
        "print(b)"
      ]
    },
    {
      "cell_type": "code",
      "execution_count": 9,
      "metadata": {
        "id": "pS11vK3nkK_c"
      },
      "outputs": [],
      "source": [
        "y_hat_l2 = w * x + b"
      ]
    },
    {
      "cell_type": "code",
      "execution_count": 10,
      "metadata": {
        "colab": {
          "base_uri": "https://localhost:8080/",
          "height": 388
        },
        "id": "lDeTmb34QWXr",
        "outputId": "d237b9e2-72af-4c0b-b96e-d8f92676e35c"
      },
      "outputs": [
        {
          "data": {
            "image/png": "[encoded data removed]",
            "text/plain": [
              "<Figure size 576x432 with 1 Axes>"
            ]
          },
          "metadata": {
            "needs_background": "light"
          },
          "output_type": "display_data"
        }
      ],
      "source": [
        "# plot\n",
        "plt.figure(figsize=(8, 6))\n",
        "plt.scatter(x, y, label = 'truth values')\n",
        "plt.plot(x, y_hat_l2, color = 'red', label = 'predicted values')\n",
        "plt.legend()\n",
        "plt.xlabel('X')\n",
        "plt.ylabel('Y')\n",
        "plt.show()"
      ]
    },
    {
      "cell_type": "markdown",
      "metadata": {
        "id": "NkGBhTSxZWwb"
      },
      "source": [
        "- We can see that the trained parameters are not very close to the ground truth parameters. We can also see from the figure that there are some differences between the two lines. This is because the original data is not completely linear. When x>0.75 and x<0.8, the originally linear y value increases by 15."
      ]
    },
    {
      "cell_type": "markdown",
      "metadata": {
        "id": "PtnLN-bol1Qv"
      },
      "source": [
        "# 4. \"Robust\" linear regression (0.5 points)\n",
        "\n",
        "Implement a linear regression model exactly like the one you created in question 2, except using a L1 loss (absolute difference) instead of a squared L2 loss (squared error).\n",
        "You should be able to copy and paste your code from question 2 and only change a few lines.\n",
        "Print out or plot the loss over the course of training.\n",
        "What is different about the loss trajectory compared to the squared-error linear regression?"
      ]
    },
    {
      "cell_type": "code",
      "execution_count": 11,
      "metadata": {
        "colab": {
          "base_uri": "https://localhost:8080/"
        },
        "id": "dghxbQCPPuuQ",
        "outputId": "e5647e1b-6916-4a74-9aaa-a62d67c5930f"
      },
      "outputs": [],
      "source": [
        "# initialize weights\n",
        "w = 1\n",
        "b = 1\n",
        "\n",
        "# set hyperparameters\n",
        "lr = 0.01\n",
        "times = 10000\n",
        "\n",
        "loss_list = []\n",
        "\n",
        "\n",
        "# gradient descent\n",
        "for i in range(times):\n",
        "    # absolute difference\n",
        "    loss = ((abs(w * x + b - y)).sum()) / len(x)\n",
        "    loss_list.append(loss)\n",
        "    # print('{:4}:   w = {:.8f}, b = {:.8f}, loss = {:.8f}'.format(i+1, w, b, loss))\n",
        "\n",
        "    # update the parameters\n",
        "    d_w = ((w *x + b - y) / abs((w *x + b - y)) * x).sum() / len(x)\n",
        "    d_b = ((w *x + b - y) / abs((w *x + b - y))).sum() / len(x)\n",
        "    w = w - lr * d_w\n",
        "    b = b - lr * d_b\n"
      ]
    },
    {
      "cell_type": "code",
      "execution_count": 12,
      "metadata": {
        "colab": {
          "base_uri": "https://localhost:8080/",
          "height": 388
        },
        "id": "_8BumoA4ktw9",
        "outputId": "397c1c5b-a268-4b85-e17f-bebda2368289"
      },
      "outputs": [
        {
          "data": {
            "image/png": "[encoded data removed]",
            "text/plain": [
              "<Figure size 720x432 with 1 Axes>"
            ]
          },
          "metadata": {
            "needs_background": "light"
          },
          "output_type": "display_data"
        }
      ],
      "source": [
        "# plot the loss\n",
        "plt.figure(figsize=(10, 6))\n",
        "plt.plot(loss_list)\n",
        "plt.xlabel('step')\n",
        "plt.ylabel('loss')\n",
        "plt.show()"
      ]
    },
    {
      "cell_type": "markdown",
      "metadata": {
        "id": "xT_JGyk7LXTH"
      },
      "source": [
        "# 5. Analyze the result (0.5 points)\n",
        "\n",
        "Print out the new values of `w` and `b` found by your model after training.\n",
        "Are they closer to the true values used in `generate_data`?\n",
        "Plot the model as a line again.\n",
        "Why do you think the behavior is different?"
      ]
    },
    {
      "cell_type": "code",
      "execution_count": 13,
      "metadata": {
        "colab": {
          "base_uri": "https://localhost:8080/"
        },
        "id": "-ZAgCbU1Li0J",
        "outputId": "69173a20-818c-4f2c-bbfe-35de9498d24d"
      },
      "outputs": [
        {
          "name": "stdout",
          "output_type": "stream",
          "text": [
            "-10.00232540540638\n"
          ]
        }
      ],
      "source": [
        "print(w)"
      ]
    },
    {
      "cell_type": "code",
      "execution_count": 14,
      "metadata": {
        "colab": {
          "base_uri": "https://localhost:8080/"
        },
        "id": "pyHnErmmM8TN",
        "outputId": "38458909-3042-41e8-f0aa-53359eddcc14"
      },
      "outputs": [
        {
          "name": "stdout",
          "output_type": "stream",
          "text": [
            "4.993319999999323\n"
          ]
        }
      ],
      "source": [
        "print(b)"
      ]
    },
    {
      "cell_type": "code",
      "execution_count": 15,
      "metadata": {
        "id": "d-iISfRoQOdx"
      },
      "outputs": [],
      "source": [
        "y_hat_l1 = w * x + b"
      ]
    },
    {
      "cell_type": "code",
      "execution_count": 16,
      "metadata": {
        "colab": {
          "base_uri": "https://localhost:8080/",
          "height": 388
        },
        "id": "ECd8YRE2QUbI",
        "outputId": "84570103-e977-40b7-9556-5221a09b5a30"
      },
      "outputs": [
        {
          "data": {
            "image/png": "[encoded data removed]",
            "text/plain": [
              "<Figure size 576x432 with 1 Axes>"
            ]
          },
          "metadata": {
            "needs_background": "light"
          },
          "output_type": "display_data"
        }
      ],
      "source": [
        "# plot\n",
        "plt.figure(figsize=(8, 6))\n",
        "plt.scatter(x, y, label = 'truth values')\n",
        "plt.plot(x, y_hat_l2, color = 'red', label = 'L2 Loss predicted values')\n",
        "plt.plot(x, y_hat_l1, color = 'yellow', label = 'L1 Loss predicted values')\n",
        "plt.legend()\n",
        "plt.xlabel('X')\n",
        "plt.ylabel('Y')\n",
        "plt.show()"
      ]
    },
    {
      "cell_type": "markdown",
      "metadata": {
        "id": "_yrNJ5dDRN0F"
      },
      "source": [
        "We can see that the model parameters trained with L1 Loss are closer to the true values. The L1 Loss is less affected by outliers and more robust.\n",
        "\n",
        "This is because the L2 Loss squares the error. When the error is greater than 1, $(\\hat{y} - y)^2 > |\\hat{y} -y|$, the L2 Loss will further increase the error. \n",
        "\n",
        "Intuitively, it can be understood as follows: if we minimize L2 Loss to give only one predicted value for all sample points, then this value must be the average of all target values. But if it is to minimize L1 Loss, then this value will be the median of the target values of all sample points. It is well known that the median is more robust to outliers than the mean, so L2 Loss is also more stable to outliers than L1 Loss."
      ]
    }
  ],
  "metadata": {
    "colab": {
      "provenance": []
    },
    "gpuClass": "standard",
    "kernelspec": {
      "display_name": "base",
      "language": "python",
      "name": "python3"
    },
    "language_info": {
      "codemirror_mode": {
        "name": "ipython",
        "version": 3
      },
      "file_extension": ".py",
      "mimetype": "text/x-python",
      "name": "python",
      "nbconvert_exporter": "python",
      "pygments_lexer": "ipython3",
      "version": "3.8.8"
    },
    "vscode": {
      "interpreter": {
        "hash": "d7e7c9655652f6d80f4d6560949e9f895eee9f7352e36ace07a9d4e289f1e41a"
      }
    }
  },
  "nbformat": 4,
  "nbformat_minor": 0
}
