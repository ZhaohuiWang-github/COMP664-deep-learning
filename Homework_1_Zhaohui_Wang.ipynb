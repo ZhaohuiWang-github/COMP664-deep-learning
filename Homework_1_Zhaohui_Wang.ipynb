{
  "cells": [
    {
      "cell_type": "code",
      "execution_count": 78,
      "metadata": {
        "id": "pp-R4v8eehJ4"
      },
      "outputs": [],
      "source": [
        "import numpy as np\n",
        "import matplotlib.pyplot as plt"
      ]
    },
    {
      "cell_type": "code",
      "execution_count": 79,
      "metadata": {
        "id": "up2bDpU9fCk3"
      },
      "outputs": [],
      "source": [
        "def generate_data():\n",
        "    size = 1000\n",
        "    x = np.linspace(0, 1, size)\n",
        "    y = -10*x + 5\n",
        "    y += 15*np.logical_and(x > 0.75, x < 0.8).astype(float)\n",
        "    return x, y"
      ]
    },
    {
      "cell_type": "code",
      "execution_count": 80,
      "metadata": {
        "id": "QywmMDYO_vJ9"
      },
      "outputs": [],
      "source": [
        "# generate_data()"
      ]
    },
    {
      "cell_type": "markdown",
      "metadata": {
        "id": "hTUMzQT3f0wm"
      },
      "source": [
        "# 1. Inspect the data (0.5 points)\n",
        "\n",
        "Using `matplotlib`, create a scatter plot of the data returned by `generate_data()`.\n",
        "What is out of the ordinary about this line?"
      ]
    },
    {
      "cell_type": "code",
      "execution_count": 81,
      "metadata": {
        "colab": {
          "base_uri": "https://localhost:8080/",
          "height": 388
        },
        "id": "eEfr6MfZfkyh",
        "outputId": "d42bb179-b750-41f7-dd6d-89380a8d6a55"
      },
      "outputs": [
        {
          "data": {
            "image/png": "[encoded data removed]",
            "text/plain": [
              "<Figure size 576x432 with 1 Axes>"
            ]
          },
          "metadata": {
            "needs_background": "light"
          },
          "output_type": "display_data"
        }
      ],
      "source": [
        "x = generate_data()[0]\n",
        "y = generate_data()[1]\n",
        "\n",
        "plt.figure(figsize=(8, 6))\n",
        "plt.scatter(x, y)\n",
        "plt.xlabel('X')\n",
        "plt.ylabel('Y')\n",
        "plt.show()"
      ]
    },
    {
      "cell_type": "markdown",
      "metadata": {
        "id": "gamAk2VkCXs_"
      },
      "source": [
        "- We can see that this line is not a continuous line. When x>0.75 and x<0.8, the line breaks."
      ]
    },
    {
      "cell_type": "markdown",
      "metadata": {
        "id": "DhgvBYNRfzG4"
      },
      "source": [
        "# 2. Implement linear regression (2 points)\n",
        "\n",
        "Implement a basic linear regression model which is fit to the data from `generate_data` using gradient descent.\n",
        "Your model should take the form `y = w*x + b`, where `y` is the output, `x` is the input, `w` is a weight parameter, and `b` is a bias parameter.\n",
        "You must use only `numpy` and derive any derivatives yourself (i.e. no autograd from TensorFlow, MXNet, Pytorch, JAX etc!).\n",
        "You should use a squared-error loss function.\n",
        "You are welcome to use any technique you want to decide when to stop training.\n",
        "Make sure you tune your optimization hyperparameters so that the model converges.\n",
        "Print out or plot the loss over the course of training."
      ]
    },
    {
      "cell_type": "code",
      "execution_count": 82,
      "metadata": {
        "id": "RjPjNFSugtci"
      },
      "outputs": [],
      "source": [
        "# initialize weights\n",
        "w = 1\n",
        "b = 1\n",
        "\n",
        "# set hyperparameters\n",
        "lr = 0.1\n",
        "times = 1000\n",
        "\n",
        "loss_list = []\n",
        "\n",
        "# gradient descent\n",
        "for i in range(times):\n",
        "    # squared-error loss\n",
        "    loss = (((w * x + b - y)**2).sum() / 2) / len(x)\n",
        "    loss_list.append(loss)\n",
        "    # print('{:4}:   w = {:.8f}, b = {:.8f}, loss = {:.8f}'.format(i+1, w, b, loss))\n",
        "\n",
        "    # update the parameters\n",
        "    d_w = (x * (w * x + b - y)).sum() / len(x)\n",
        "    d_b = (w * x + b - y).sum() / len(x)\n",
        "    w = w - lr * d_w\n",
        "    b = b - lr * d_b\n",
        "\n"
      ]
    },
    {
      "cell_type": "code",
      "execution_count": 83,
      "metadata": {
        "colab": {
          "base_uri": "https://localhost:8080/",
          "height": 388
        },
        "id": "xir7xCqZVhsD",
        "outputId": "8f99df6c-cc2b-4a3a-96af-a173fc786ff1"
      },
      "outputs": [
        {
          "data": {
            "image/png": "[encoded data removed]",
            "text/plain": [
              "<Figure size 720x432 with 1 Axes>"
            ]
          },
          "metadata": {
            "needs_background": "light"
          },
          "output_type": "display_data"
        }
      ],
      "source": [
        "# plot the loss\n",
        "plt.figure(figsize=(10, 6))\n",
        "plt.plot(loss_list)\n",
        "plt.xlabel('step')\n",
        "plt.ylabel('loss')\n",
        "plt.show()"
      ]
    },
    {
      "cell_type": "markdown",
      "metadata": {
        "id": "p10i06F4KCJl"
      },
      "source": [
        "# 3. Analyze the result (0.5 points)\n",
        "\n",
        "Print out the values of `w` and `b` found by your model after training and compare them to the ground truth values (which can be found inside the code of the `generate_data` function).\n",
        "Are they close?\n",
        "Recreate the scatter plot you generated in question 1 and plot the model as a line on the same plot.\n",
        "What went wrong?\n"
      ]
    },
    {
      "cell_type": "code",
      "execution_count": 84,
      "metadata": {
        "colab": {
          "base_uri": "https://localhost:8080/"
        },
        "id": "ePF9ngfcXQYo",
        "outputId": "1df359b2-51f7-4237-a48b-ef49196d7164"
      },
      "outputs": [
        {
          "name": "stdout",
          "output_type": "stream",
          "text": [
            "-7.51656425901507\n"
          ]
        }
      ],
      "source": [
        "print(w)"
      ]
    },
    {
      "cell_type": "code",
      "execution_count": 85,
      "metadata": {
        "colab": {
          "base_uri": "https://localhost:8080/"
        },
        "id": "YbvCFfb7XRwL",
        "outputId": "0d2848d7-2c6c-4c7f-8757-270bbf90b71e"
      },
      "outputs": [
        {
          "name": "stdout",
          "output_type": "stream",
          "text": [
            "4.507897525151799\n"
          ]
        }
      ],
      "source": [
        "print(b)"
      ]
    },
    {
      "cell_type": "code",
      "execution_count": 86,
      "metadata": {
        "id": "pS11vK3nkK_c"
      },
      "outputs": [],
      "source": [
        "y_hat_l2 = w * x + b"
      ]
    },
    {
      "cell_type": "code",
      "execution_count": 87,
      "metadata": {
        "colab": {
          "base_uri": "https://localhost:8080/",
          "height": 388
        },
        "id": "lDeTmb34QWXr",
        "outputId": "38875638-e761-4f80-d9f7-e1b2f7ba9e95"
      },
      "outputs": [
        {
          "data": {
            "image/png": "[encoded data removed]",
            "text/plain": [
              "<Figure size 576x432 with 1 Axes>"
            ]
          },
          "metadata": {
            "needs_background": "light"
          },
          "output_type": "display_data"
        }
      ],
      "source": [
        "# plot\n",
        "plt.figure(figsize=(8, 6))\n",
        "plt.scatter(x, y, label = 'truth values')\n",
        "plt.plot(x, y_hat_l2, color = 'red', label = 'predicted values')\n",
        "plt.legend()\n",
        "plt.xlabel('X')\n",
        "plt.ylabel('Y')\n",
        "plt.show()"
      ]
    },
    {
      "cell_type": "markdown",
      "metadata": {
        "id": "NkGBhTSxZWwb"
      },
      "source": [
        "- We can see that the trained parameters are not very close to the ground truth parameters. We can also see from the figure that there are some differences between the two lines. This is because the original data is not completely linear. When x>0.75 and x<0.8, the originally linear y value increases by 15."
      ]
    },
    {
      "cell_type": "markdown",
      "metadata": {
        "id": "PtnLN-bol1Qv"
      },
      "source": [
        "# 4. \"Robust\" linear regression (0.5 points)\n",
        "\n",
        "Implement a linear regression model exactly like the one you created in question 2, except using a L1 loss (absolute difference) instead of a squared L2 loss (squared error).\n",
        "You should be able to copy and paste your code from question 2 and only change a few lines.\n",
        "Print out or plot the loss over the course of training.\n",
        "What is different about the loss trajectory compared to the squared-error linear regression?"
      ]
    },
    {
      "cell_type": "code",
      "execution_count": 89,
      "metadata": {
        "id": "dghxbQCPPuuQ"
      },
      "outputs": [],
      "source": [
        "# initialize weights\n",
        "w = 1\n",
        "b = 1\n",
        "\n",
        "# set hyperparameters\n",
        "lr = 0.01\n",
        "times = 10000\n",
        "\n",
        "loss_list = []\n",
        "\n",
        "\n",
        "# gradient descent\n",
        "for i in range(times):\n",
        "    # absolute difference\n",
        "    loss = ((abs(w * x + b - y)).sum()) / len(x)\n",
        "    loss_list.append(loss)\n",
        "    # print('{:4}:   w = {:.8f}, b = {:.8f}, loss = {:.8f}'.format(i+1, w, b, loss))\n",
        "\n",
        "    # update the parameters\n",
        "\n",
        "    d_w = 0\n",
        "    d_b = 0\n",
        "\n",
        "    for j in range(len(x)):\n",
        "        if (w*x[j] + b - y[j]) >= 0:\n",
        "            d_w = d_w + x[j]\n",
        "            d_b = d_b + 1\n",
        "        else:\n",
        "            d_w = d_w - x[j]\n",
        "            d_b = d_b - 1\n",
        "    \n",
        "    w = w - lr * d_w / len(x)\n",
        "    b = b - lr * d_b / len(x)\n"
      ]
    },
    {
      "cell_type": "code",
      "execution_count": 90,
      "metadata": {
        "colab": {
          "base_uri": "https://localhost:8080/",
          "height": 388
        },
        "id": "_8BumoA4ktw9",
        "outputId": "7333264c-5a07-4af0-e095-5484c3563086"
      },
      "outputs": [
        {
          "data": {
            "image/png": "[encoded data removed]",
            "text/plain": [
              "<Figure size 720x432 with 1 Axes>"
            ]
          },
          "metadata": {
            "needs_background": "light"
          },
          "output_type": "display_data"
        }
      ],
      "source": [
        "# plot the loss\n",
        "plt.figure(figsize=(10, 6))\n",
        "plt.plot(loss_list)\n",
        "plt.xlabel('step')\n",
        "plt.ylabel('loss')\n",
        "plt.show()"
      ]
    },
    {
      "cell_type": "markdown",
      "metadata": {
        "id": "xT_JGyk7LXTH"
      },
      "source": [
        "# 5. Analyze the result (0.5 points)\n",
        "\n",
        "Print out the new values of `w` and `b` found by your model after training.\n",
        "Are they closer to the true values used in `generate_data`?\n",
        "Plot the model as a line again.\n",
        "Why do you think the behavior is different?"
      ]
    },
    {
      "cell_type": "code",
      "execution_count": 91,
      "metadata": {
        "colab": {
          "base_uri": "https://localhost:8080/"
        },
        "id": "-ZAgCbU1Li0J",
        "outputId": "58030ccc-4065-4016-e2a7-a6f6e4a12f2f"
      },
      "outputs": [
        {
          "name": "stdout",
          "output_type": "stream",
          "text": [
            "-10.00232540540638\n"
          ]
        }
      ],
      "source": [
        "print(w)"
      ]
    },
    {
      "cell_type": "code",
      "execution_count": 92,
      "metadata": {
        "colab": {
          "base_uri": "https://localhost:8080/"
        },
        "id": "pyHnErmmM8TN",
        "outputId": "c0304b2c-997c-4e12-80d7-c7d7663fedab"
      },
      "outputs": [
        {
          "name": "stdout",
          "output_type": "stream",
          "text": [
            "4.993319999999323\n"
          ]
        }
      ],
      "source": [
        "print(b)"
      ]
    },
    {
      "cell_type": "code",
      "execution_count": 93,
      "metadata": {
        "id": "d-iISfRoQOdx"
      },
      "outputs": [],
      "source": [
        "y_hat_l1 = w * x + b"
      ]
    },
    {
      "cell_type": "code",
      "execution_count": 94,
      "metadata": {
        "colab": {
          "base_uri": "https://localhost:8080/",
          "height": 388
        },
        "id": "ECd8YRE2QUbI",
        "outputId": "6b0fd442-76a4-4c8f-e31d-3690ac6ee64a"
      },
      "outputs": [
        {
          "data": {
            "image/png": "[encoded data removed]",
            "text/plain": [
              "<Figure size 576x432 with 1 Axes>"
            ]
          },
          "metadata": {
            "needs_background": "light"
          },
          "output_type": "display_data"
        }
      ],
      "source": [
        "# plot\n",
        "plt.figure(figsize=(8, 6))\n",
        "plt.scatter(x, y, label = 'truth values')\n",
        "plt.plot(x, y_hat_l2, color = 'red', label = 'L2 Loss predicted values')\n",
        "plt.plot(x, y_hat_l1, color = 'yellow', label = 'L1 Loss predicted values')\n",
        "plt.legend()\n",
        "plt.xlabel('X')\n",
        "plt.ylabel('Y')\n",
        "plt.show()"
      ]
    },
    {
      "cell_type": "markdown",
      "metadata": {
        "id": "_yrNJ5dDRN0F"
      },
      "source": [
        "We can see that the model parameters trained with L1 Loss are closer to the true values. The L1 Loss is less affected by outliers and more robust.\n",
        "\n",
        "This is because the L2 Loss squares the error. When the error is greater than 1, $(\\hat{y} - y)^2 > |\\hat{y} -y|$, the L2 Loss will further increase the error. \n",
        "\n",
        "Intuitively, it can be understood as follows: if we minimize L2 Loss to give only one predicted value for all sample points, then this value must be the average of all target values. But if it is to minimize L1 Loss, then this value will be the median of the target values of all sample points. It is well known that the median is more robust to outliers than the mean, so L2 Loss is also more stable to outliers than L1 Loss."
      ]
    }
  ],
  "metadata": {
    "colab": {
      "provenance": []
    },
    "gpuClass": "standard",
    "kernelspec": {
      "display_name": "Python 3",
      "name": "python3"
    }
  },
  "nbformat": 4,
  "nbformat_minor": 0
}
